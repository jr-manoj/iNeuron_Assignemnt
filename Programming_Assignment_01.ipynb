{
  "nbformat": 4,
  "nbformat_minor": 0,
  "metadata": {
    "colab": {
      "name": "Programming_Assignment_01.ipynb",
      "provenance": [],
      "collapsed_sections": [],
      "authorship_tag": "ABX9TyN9w9EAsHmav3vGKZBGN7d5",
      "include_colab_link": true
    },
    "kernelspec": {
      "name": "python3",
      "display_name": "Python 3"
    },
    "language_info": {
      "name": "python"
    }
  },
  "cells": [
    {
      "cell_type": "markdown",
      "metadata": {
        "id": "view-in-github",
        "colab_type": "text"
      },
      "source": [
        "<a href=\"https://colab.research.google.com/github/jr-manoj/iNeuron_Assignemnt/blob/main/Programming_Assignment_01.ipynb\" target=\"_parent\"><img src=\"https://colab.research.google.com/assets/colab-badge.svg\" alt=\"Open In Colab\"/></a>"
      ]
    },
    {
      "cell_type": "markdown",
      "source": [
        "# Programming Basic Assignment"
      ],
      "metadata": {
        "id": "oVQEkOo1ouNs"
      }
    },
    {
      "cell_type": "markdown",
      "source": [
        "**1.\tWrite a Python program to print \"Hello Python\"?**"
      ],
      "metadata": {
        "id": "kmWE_PmMpDIq"
      }
    },
    {
      "cell_type": "code",
      "source": [
        "print(\"Hello Python\")"
      ],
      "metadata": {
        "colab": {
          "base_uri": "https://localhost:8080/"
        },
        "id": "_XECPQUhpZ6T",
        "outputId": "9ed41232-7900-47fa-ab3d-361a3462ac23"
      },
      "execution_count": null,
      "outputs": [
        {
          "output_type": "stream",
          "name": "stdout",
          "text": [
            "Hello Python\n"
          ]
        }
      ]
    },
    {
      "cell_type": "markdown",
      "source": [
        "**2.\tWrite a Python program to do arithmetical operations addition and division.?**"
      ],
      "metadata": {
        "id": "sXhe42_1pDMp"
      }
    },
    {
      "cell_type": "code",
      "source": [
        "print(\"Addition: \", 5 + 54)\n",
        "print(\"Division: \", 54 / 5)"
      ],
      "metadata": {
        "colab": {
          "base_uri": "https://localhost:8080/"
        },
        "id": "23YCWwsxpdTY",
        "outputId": "5f641ac0-7011-40d9-e6c8-224afccafcc5"
      },
      "execution_count": null,
      "outputs": [
        {
          "output_type": "stream",
          "name": "stdout",
          "text": [
            "Addition:  59\n",
            "Division:  10.8\n"
          ]
        }
      ]
    },
    {
      "cell_type": "markdown",
      "source": [
        "**3.\tWrite a Python program to find the area of a triangle?**"
      ],
      "metadata": {
        "id": "VP4hafQJpN6U"
      }
    },
    {
      "cell_type": "code",
      "source": [
        "# Formula: A = 1/2 × b × h\n",
        "\n",
        "base = int(input(\"Enter the base: \"))\n",
        "height = int(input(\"Enter the height: \"))\n",
        "\n",
        "\n",
        "def area_of_triangle(base, height):\n",
        "  area = 1/2 * base * height\n",
        "  return area\n",
        "\n",
        "\n",
        "print(\"\\nArea of a triangle: \", area_of_triangle(base,height))\n"
      ],
      "metadata": {
        "colab": {
          "base_uri": "https://localhost:8080/"
        },
        "id": "MDIOXBRWpuPX",
        "outputId": "a02d8e05-f920-469a-d968-ce069fd33733"
      },
      "execution_count": null,
      "outputs": [
        {
          "output_type": "stream",
          "name": "stdout",
          "text": [
            "Enter the base: 10\n",
            "Enter the height: 12\n",
            "\n",
            "Area of a triangle:  60.0\n"
          ]
        }
      ]
    },
    {
      "cell_type": "markdown",
      "source": [
        "**4.\tWrite a Python program to swap two variables?**32"
      ],
      "metadata": {
        "id": "h_YIPBTPpQfc"
      }
    },
    {
      "cell_type": "code",
      "source": [
        "num1 = int(input(\"Enter first number: \"))\n",
        "num2 = int(input(\"Enter second number: \"))\n",
        "\n",
        "def swap_var(a, b):\n",
        "  temp = a\n",
        "  a = b\n",
        "  b = temp\n",
        "  return a,b\n",
        "\n",
        "print(f\"\\nBefore swaping: {num1}, {num2}\")  \n",
        "num1,num2 = swap_var(num1, num2) # passing to swap and restore swap value in num1, num2\n",
        "print('-'*30)\n",
        "print(f\"After swaping: {num1}, {num2}\")\n",
        "\n",
        "\n"
      ],
      "metadata": {
        "colab": {
          "base_uri": "https://localhost:8080/"
        },
        "id": "jN3bJCRasRB7",
        "outputId": "c6b0101a-4d2c-4033-c713-866e6309bc50"
      },
      "execution_count": null,
      "outputs": [
        {
          "output_type": "stream",
          "name": "stdout",
          "text": [
            "Enter first number: 21\n",
            "Enter second number: 32\n",
            "\n",
            "Before swaping: 21, 32\n",
            "------------------------------\n",
            "After swaping: 32, 21\n"
          ]
        }
      ]
    },
    {
      "cell_type": "markdown",
      "source": [
        "**5.\tWrite a Python program to generate a random number?**"
      ],
      "metadata": {
        "id": "X1ku9g-ZpQon"
      }
    },
    {
      "cell_type": "code",
      "execution_count": null,
      "metadata": {
        "id": "DtJeh0WXoqcO"
      },
      "outputs": [],
      "source": [
        "from random import randint"
      ]
    },
    {
      "cell_type": "code",
      "source": [
        "print(\"Generate random number between 300 - 500: \",randint(300,500))"
      ],
      "metadata": {
        "colab": {
          "base_uri": "https://localhost:8080/"
        },
        "id": "Eb2DIydspBk5",
        "outputId": "0477742a-73e6-40b7-da12-c642c291875a"
      },
      "execution_count": null,
      "outputs": [
        {
          "output_type": "stream",
          "name": "stdout",
          "text": [
            "Generate random number between 300 - 500:  496\n"
          ]
        }
      ]
    },
    {
      "cell_type": "code",
      "source": [
        ""
      ],
      "metadata": {
        "id": "uzPaXTBtrAMc"
      },
      "execution_count": null,
      "outputs": []
    }
  ]
}