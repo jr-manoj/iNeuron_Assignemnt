{
  "nbformat": 4,
  "nbformat_minor": 0,
  "metadata": {
    "colab": {
      "name": "Assignment_3.ipynb",
      "provenance": [],
      "collapsed_sections": [],
      "authorship_tag": "ABX9TyOS9j6dV88KGoz7PP+SMT7j",
      "include_colab_link": true
    },
    "kernelspec": {
      "name": "python3",
      "display_name": "Python 3"
    },
    "language_info": {
      "name": "python"
    }
  },
  "cells": [
    {
      "cell_type": "markdown",
      "metadata": {
        "id": "view-in-github",
        "colab_type": "text"
      },
      "source": [
        "<a href=\"https://colab.research.google.com/github/jr-manoj/iNeuron_Assignemnt/blob/main/Assignment_3.ipynb\" target=\"_parent\"><img src=\"https://colab.research.google.com/assets/colab-badge.svg\" alt=\"Open In Colab\"/></a>"
      ]
    },
    {
      "cell_type": "markdown",
      "source": [
        "**1. Why are functions advantageous to have in your programs?**"
      ],
      "metadata": {
        "id": "WuMlRKw0hT7U"
      }
    },
    {
      "cell_type": "markdown",
      "source": [
        "Ans: When we use functions in our programs, it helps to reduce the duplication of code which makes programs shorter, easier to read and update. The main advantage of functions is code reusability."
      ],
      "metadata": {
        "id": "A2zN4c3JiHx-"
      }
    },
    {
      "cell_type": "markdown",
      "source": [
        "**2. When does the code in a function run: when it's specified or when it's called?**"
      ],
      "metadata": {
        "id": "oq1Kgzh8hW6v"
      }
    },
    {
      "cell_type": "markdown",
      "source": [
        "Ans: When function is called then only the code execute not when it's specified."
      ],
      "metadata": {
        "id": "3jGIS03riw2v"
      }
    },
    {
      "cell_type": "code",
      "execution_count": null,
      "metadata": {
        "colab": {
          "base_uri": "https://localhost:8080/"
        },
        "id": "QVhnGrsbgrSx",
        "outputId": "f7370e94-9015-4154-df7b-eefafb076a08"
      },
      "outputs": [
        {
          "output_type": "execute_result",
          "data": {
            "text/plain": [
              "434"
            ]
          },
          "metadata": {},
          "execution_count": 2
        }
      ],
      "source": [
        "def add_two_num(num1, num2):\n",
        "  return num1+num2\n",
        "\n",
        "add_two_num(350,84)  "
      ]
    },
    {
      "cell_type": "markdown",
      "source": [
        "**3. What statement creates a function?**"
      ],
      "metadata": {
        "id": "cox1v-dvhaVy"
      }
    },
    {
      "cell_type": "markdown",
      "source": [
        "Ans: A function is created with the **def** keyword. The statements in the block of the function must be indented. The **def** keyword is followed by the function name with round brackets and a colon.\n",
        "\n",
        "**Syntax of Function:**\n",
        "```\n",
        "def function_name(parameters):\n",
        "    \"\"\"doc string\"\"\"          \n",
        "    -----function body-----\n",
        "    -----function body-----\n",
        "    return value\n",
        "```\n",
        "\n"
      ],
      "metadata": {
        "id": "8AQKHZudlqS0"
      }
    },
    {
      "cell_type": "markdown",
      "source": [
        "**4. What is the difference between a function and a function call?**"
      ],
      "metadata": {
        "id": "bdqhqLtLhdRz"
      }
    },
    {
      "cell_type": "markdown",
      "source": [
        "Ans: \n",
        "1. A function is a block of code that does a particular operation and returns a result. It usually accepts inputs as parameters and returns a result. The parameters are not mandatory.\n",
        "2. A function call is the code used to pass control to a function."
      ],
      "metadata": {
        "id": "jdf9sZtDmLX2"
      }
    },
    {
      "cell_type": "markdown",
      "source": [
        "**5. How many global scopes are there in a Python program? How many local scopes?**"
      ],
      "metadata": {
        "id": "pE9d-semheW5"
      }
    },
    {
      "cell_type": "markdown",
      "source": [
        "Ans: \n",
        "There's only one global Python scope and one local Python scope per program execution. This scope remains in existence until the program terminates and all its names are forgotten. Otherwise, the next time you were to run the program, the names would remember their values from the previous run."
      ],
      "metadata": {
        "id": "YygxqOCxnwNM"
      }
    },
    {
      "cell_type": "markdown",
      "source": [
        "**6. What happens to variables in a local scope when the function call returns?**"
      ],
      "metadata": {
        "id": "POyA6DkSheqq"
      }
    },
    {
      "cell_type": "markdown",
      "source": [
        "Ans: When the execution of the function terminates (returns), the local variables are destroyed and all the variables in it are forgotten."
      ],
      "metadata": {
        "id": "Vi8tqRxCoVQ3"
      }
    },
    {
      "cell_type": "markdown",
      "source": [
        "**7. What is the concept of a return value? Is it possible to have a return value in an expression?**"
      ],
      "metadata": {
        "id": "K_uuoQyvheto"
      }
    },
    {
      "cell_type": "markdown",
      "source": [
        "Ans:\n",
        "\n",
        "The Python return statement is a special statement that you can use inside a function or method to send the function's result back to the caller.\n",
        "\n",
        "Yes, you can use any Python object as a return value. Since everything in Python is an object, you can return strings, lists, tuples, dictionaries, functions, classes, instances, user-defined objects, and even modules or packages."
      ],
      "metadata": {
        "id": "ZT4uIj6Yo-sC"
      }
    },
    {
      "cell_type": "markdown",
      "source": [
        "**8. If a function does not have a return statement, what is the return value of a call to that function?**"
      ],
      "metadata": {
        "id": "mnX0EXNKhewc"
      }
    },
    {
      "cell_type": "markdown",
      "source": [
        "Ans: If a function doesn't have a return statement, it's return value is `None`."
      ],
      "metadata": {
        "id": "483HsJqWp7Mt"
      }
    },
    {
      "cell_type": "markdown",
      "source": [
        "**9. How do you make a function variable refer to the global variable?**"
      ],
      "metadata": {
        "id": "_ja80Xtwhe0L"
      }
    },
    {
      "cell_type": "markdown",
      "source": [
        "Ans: If you want to refer to a global variable in a function, you can use the **global** keyword to declare which variables are global."
      ],
      "metadata": {
        "id": "wqksXxwdrfFO"
      }
    },
    {
      "cell_type": "code",
      "source": [
        "global num"
      ],
      "metadata": {
        "id": "iZhH0XdKrkDp"
      },
      "execution_count": 4,
      "outputs": []
    },
    {
      "cell_type": "markdown",
      "source": [
        "10. What is the data type of None?"
      ],
      "metadata": {
        "id": "_OxbJP0rhemQ"
      }
    },
    {
      "cell_type": "markdown",
      "source": [
        "Ans: The data type of None is **NoneType**."
      ],
      "metadata": {
        "id": "fekOB1NErv13"
      }
    },
    {
      "cell_type": "markdown",
      "source": [
        "**11. What does the sentence import `areallyourpetsnamederic` do?**"
      ],
      "metadata": {
        "id": "Tx4NDNyjhe5O"
      }
    },
    {
      "cell_type": "markdown",
      "source": [
        "Ans: **import** statement import a module."
      ],
      "metadata": {
        "id": "71TJS6NAsAqj"
      }
    },
    {
      "cell_type": "code",
      "source": [
        "import areallyourpetsnamederic # No module name like this"
      ],
      "metadata": {
        "colab": {
          "base_uri": "https://localhost:8080/",
          "height": 300
        },
        "id": "JHJFadDmrtMT",
        "outputId": "6284c4bd-5962-448b-8292-f6d0a1a55c3f"
      },
      "execution_count": 5,
      "outputs": [
        {
          "output_type": "error",
          "ename": "ModuleNotFoundError",
          "evalue": "ignored",
          "traceback": [
            "\u001b[0;31m---------------------------------------------------------------------------\u001b[0m",
            "\u001b[0;31mModuleNotFoundError\u001b[0m                       Traceback (most recent call last)",
            "\u001b[0;32m<ipython-input-5-b1ea9cb2228f>\u001b[0m in \u001b[0;36m<module>\u001b[0;34m()\u001b[0m\n\u001b[0;32m----> 1\u001b[0;31m \u001b[0;32mimport\u001b[0m \u001b[0mareallyourpetsnamederic\u001b[0m\u001b[0;34m\u001b[0m\u001b[0;34m\u001b[0m\u001b[0m\n\u001b[0m",
            "\u001b[0;31mModuleNotFoundError\u001b[0m: No module named 'areallyourpetsnamederic'",
            "",
            "\u001b[0;31m---------------------------------------------------------------------------\u001b[0;32m\nNOTE: If your import is failing due to a missing package, you can\nmanually install dependencies using either !pip or !apt.\n\nTo view examples of installing some common dependencies, click the\n\"Open Examples\" button below.\n\u001b[0;31m---------------------------------------------------------------------------\u001b[0m\n"
          ],
          "errorDetails": {
            "actions": [
              {
                "action": "open_url",
                "actionText": "Open Examples",
                "url": "/notebooks/snippets/importing_libraries.ipynb"
              }
            ]
          }
        }
      ]
    },
    {
      "cell_type": "code",
      "source": [
        ""
      ],
      "metadata": {
        "id": "cAnZNCm8sISE"
      },
      "execution_count": null,
      "outputs": []
    },
    {
      "cell_type": "markdown",
      "source": [
        "**12. If you had a bacon() feature in a spam module, what would you call it after importing spam?**"
      ],
      "metadata": {
        "id": "pLmPEX5GhegM"
      }
    },
    {
      "cell_type": "markdown",
      "source": [
        "Ans: This feature bacon() in a spam module, can be called with **`spam.bacon()`**."
      ],
      "metadata": {
        "id": "nGRc0s8Msu3n"
      }
    },
    {
      "cell_type": "markdown",
      "source": [
        "**13. What can you do to save a programme from crashing if it encounters an error?**"
      ],
      "metadata": {
        "id": "0nVciZmhhsaT"
      }
    },
    {
      "cell_type": "markdown",
      "source": [
        "Ans: In Python, we use the **try** and **except** statements to handle exceptions. Whenever the code breaks down, an exception is thrown without crashing the program."
      ],
      "metadata": {
        "id": "JzA0yn9VtTrQ"
      }
    },
    {
      "cell_type": "code",
      "source": [
        "def addNumbers(a, b):\n",
        "    return a + b\n",
        " \n",
        "addNumbers(5, '')\n"
      ],
      "metadata": {
        "colab": {
          "base_uri": "https://localhost:8080/",
          "height": 300
        },
        "id": "sriNrGOEtTHm",
        "outputId": "b2605f73-ac7c-4b81-a85c-ce3968c0fa2e"
      },
      "execution_count": 9,
      "outputs": [
        {
          "output_type": "error",
          "ename": "TypeError",
          "evalue": "ignored",
          "traceback": [
            "\u001b[0;31m---------------------------------------------------------------------------\u001b[0m",
            "\u001b[0;31mTypeError\u001b[0m                                 Traceback (most recent call last)",
            "\u001b[0;32m<ipython-input-9-6bcd2c3f102d>\u001b[0m in \u001b[0;36m<module>\u001b[0;34m()\u001b[0m\n\u001b[1;32m      2\u001b[0m     \u001b[0;32mreturn\u001b[0m \u001b[0ma\u001b[0m \u001b[0;34m+\u001b[0m \u001b[0mb\u001b[0m\u001b[0;34m\u001b[0m\u001b[0;34m\u001b[0m\u001b[0m\n\u001b[1;32m      3\u001b[0m \u001b[0;34m\u001b[0m\u001b[0m\n\u001b[0;32m----> 4\u001b[0;31m \u001b[0maddNumbers\u001b[0m\u001b[0;34m(\u001b[0m\u001b[0;36m5\u001b[0m\u001b[0;34m,\u001b[0m \u001b[0;34m''\u001b[0m\u001b[0;34m)\u001b[0m\u001b[0;34m\u001b[0m\u001b[0;34m\u001b[0m\u001b[0m\n\u001b[0m",
            "\u001b[0;32m<ipython-input-9-6bcd2c3f102d>\u001b[0m in \u001b[0;36maddNumbers\u001b[0;34m(a, b)\u001b[0m\n\u001b[1;32m      1\u001b[0m \u001b[0;32mdef\u001b[0m \u001b[0maddNumbers\u001b[0m\u001b[0;34m(\u001b[0m\u001b[0ma\u001b[0m\u001b[0;34m,\u001b[0m \u001b[0mb\u001b[0m\u001b[0;34m)\u001b[0m\u001b[0;34m:\u001b[0m\u001b[0;34m\u001b[0m\u001b[0;34m\u001b[0m\u001b[0m\n\u001b[0;32m----> 2\u001b[0;31m     \u001b[0;32mreturn\u001b[0m \u001b[0ma\u001b[0m \u001b[0;34m+\u001b[0m \u001b[0mb\u001b[0m\u001b[0;34m\u001b[0m\u001b[0;34m\u001b[0m\u001b[0m\n\u001b[0m\u001b[1;32m      3\u001b[0m \u001b[0;34m\u001b[0m\u001b[0m\n\u001b[1;32m      4\u001b[0m \u001b[0maddNumbers\u001b[0m\u001b[0;34m(\u001b[0m\u001b[0;36m5\u001b[0m\u001b[0;34m,\u001b[0m \u001b[0;34m''\u001b[0m\u001b[0;34m)\u001b[0m\u001b[0;34m\u001b[0m\u001b[0;34m\u001b[0m\u001b[0m\n",
            "\u001b[0;31mTypeError\u001b[0m: unsupported operand type(s) for +: 'int' and 'str'"
          ]
        }
      ]
    },
    {
      "cell_type": "markdown",
      "source": [
        "**To handle above error we use `try `and `except`**"
      ],
      "metadata": {
        "id": "3zsmMQohtxfz"
      }
    },
    {
      "cell_type": "code",
      "source": [
        "def addNumbers(a, b):\n",
        "    try:\n",
        "        return a + b\n",
        "    except Exception as e:\n",
        "        return 'Error occurred : ' + str(e)\n",
        "  \n",
        "print(addNumbers('', 10))"
      ],
      "metadata": {
        "colab": {
          "base_uri": "https://localhost:8080/"
        },
        "id": "ITOiFrAvtqFf",
        "outputId": "921cb03d-f1ad-4f28-d2db-6b6219ce515d"
      },
      "execution_count": 10,
      "outputs": [
        {
          "output_type": "stream",
          "name": "stdout",
          "text": [
            "Error occurred : can only concatenate str (not \"int\") to str\n"
          ]
        }
      ]
    },
    {
      "cell_type": "code",
      "source": [
        ""
      ],
      "metadata": {
        "id": "78Re4oJqhUTi"
      },
      "execution_count": null,
      "outputs": []
    },
    {
      "cell_type": "markdown",
      "source": [
        "**14. What is the purpose of the try clause? What is the purpose of the except clause?**"
      ],
      "metadata": {
        "id": "H6m2BRavhseZ"
      }
    },
    {
      "cell_type": "markdown",
      "source": [
        "Ans: The code that could potentially cause an error goes in the try clause. The code that executes if an error happens goes in the except clause.\n",
        "\n",
        "In simple terms, \n",
        "1. The try block lets you test a block of code for errors.\n",
        "2. The except block lets you handle the error."
      ],
      "metadata": {
        "id": "6EewmT0xuIV6"
      }
    },
    {
      "cell_type": "markdown",
      "source": [
        "[More about Try and except](https://www.w3schools.com/python/python_try_except.asp)"
      ],
      "metadata": {
        "id": "q-eIkWtEuTdq"
      }
    },
    {
      "cell_type": "code",
      "source": [
        ""
      ],
      "metadata": {
        "id": "mJDID4NTuKe2"
      },
      "execution_count": null,
      "outputs": []
    }
  ]
}