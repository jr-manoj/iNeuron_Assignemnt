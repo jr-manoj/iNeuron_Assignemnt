{
  "nbformat": 4,
  "nbformat_minor": 0,
  "metadata": {
    "colab": {
      "name": "Assignment_1.ipynb",
      "provenance": [],
      "collapsed_sections": [],
      "authorship_tag": "ABX9TyMnjY/Kej6EhSUICSa9Amt1",
      "include_colab_link": true
    },
    "kernelspec": {
      "name": "python3",
      "display_name": "Python 3"
    },
    "language_info": {
      "name": "python"
    }
  },
  "cells": [
    {
      "cell_type": "markdown",
      "metadata": {
        "id": "view-in-github",
        "colab_type": "text"
      },
      "source": [
        "<a href=\"https://colab.research.google.com/github/jr-manoj/iNeuron_Assignemnt/blob/main/Assignment_1.ipynb\" target=\"_parent\"><img src=\"https://colab.research.google.com/assets/colab-badge.svg\" alt=\"Open In Colab\"/></a>"
      ]
    },
    {
      "cell_type": "markdown",
      "source": [
        "# Python Basic Assignment\n"
      ],
      "metadata": {
        "id": "1vdX9-30-j8q"
      }
    },
    {
      "cell_type": "markdown",
      "source": [
        "**1. In the below elements which of them are values or an expression? eg:- values can be integer or string and expressions will be mathematical operators.**\n",
        "\n",
        "\n",
        "` *,'hello', -87.8, -, /, +, 6`\n",
        "\n",
        "\n",
        "\n",
        "\n",
        "\n",
        "\n"
      ],
      "metadata": {
        "id": "aQ1pMiI0_RnX"
      }
    },
    {
      "cell_type": "markdown",
      "source": [
        "Ans: \n",
        "\n",
        "There are 4 Operators and 3 Expressions.\n",
        "\n",
        "Operator:   *,/,+,-\n",
        "\n",
        "Expression: hello, -87.8, 6"
      ],
      "metadata": {
        "id": "gf_MMaSLAaL_"
      }
    },
    {
      "cell_type": "markdown",
      "source": [
        "**2. What is the difference between string and variable?**\n",
        "\n"
      ],
      "metadata": {
        "id": "_PSrJTN3BMR2"
      }
    },
    {
      "cell_type": "markdown",
      "source": [
        "Ans: \n",
        "\n",
        "Variable: Think of variable, as a symbols that can be use to store data in a program. (as an empty box that can be fill with some data or value).\n",
        "\n",
        "String: String are data, so we can used them to fill up a variable. "
      ],
      "metadata": {
        "id": "K2I6q5hDBO_0"
      }
    },
    {
      "cell_type": "markdown",
      "source": [
        "**3. Describe three different Data Types ?**\n"
      ],
      "metadata": {
        "id": "1CLjOuQQDLPv"
      }
    },
    {
      "cell_type": "markdown",
      "source": [
        "Ans: This, are the Python bulit-in data type:\n",
        "\n",
        "**Text Type:**\tstr\n",
        "\n",
        "**Numeric Types:**\tint, float, complex\n",
        "\n",
        "**Sequence Types:**\tlist, tuple, range\n",
        "\n",
        "**Mapping Type:**\tdict\n",
        "\n",
        "**Set Types:**\tset, frozenset\n",
        "\n",
        "**Boolean Type:**\tbool\n",
        "\n",
        "**Binary Types:**\tbytes, bytearray, memoryview\n",
        "\n",
        "**None Type:**\tNoneType"
      ],
      "metadata": {
        "id": "a_vGMM9eDPdS"
      }
    },
    {
      "cell_type": "code",
      "source": [
        "# int data type\n",
        "int_num = 30\n",
        "print(int_num, type(int_num))\n",
        "# boolean data type\n",
        "bol = True\n",
        "print(bol, type(bol))\n",
        "# None data type\n",
        "x = None\n",
        "print(x, type(x))"
      ],
      "metadata": {
        "colab": {
          "base_uri": "https://localhost:8080/"
        },
        "id": "a3FjG0Cy-sMi",
        "outputId": "d2910a13-3f25-4138-d806-4b91e1cf9abf"
      },
      "execution_count": null,
      "outputs": [
        {
          "output_type": "stream",
          "name": "stdout",
          "text": [
            "30 <class 'int'>\n",
            "True <class 'bool'>\n",
            "None <class 'NoneType'>\n"
          ]
        }
      ]
    },
    {
      "cell_type": "code",
      "source": [
        ""
      ],
      "metadata": {
        "id": "vNxEJqN6G8Nl"
      },
      "execution_count": null,
      "outputs": []
    },
    {
      "cell_type": "markdown",
      "source": [
        "4. What is an expression made up of? What do all expressions do?"
      ],
      "metadata": {
        "id": "8ihrQpgQD3Pk"
      }
    },
    {
      "cell_type": "markdown",
      "source": [
        "Ans: An expression is a combination of values, variables, operators, and calls to functions. This expressions need to be evaluated. If we ask Python to print an expression, the interpreter evaluates the expression and displays the result."
      ],
      "metadata": {
        "id": "5hmZetc5Fthj"
      }
    },
    {
      "cell_type": "code",
      "source": [
        "print(len(\"Hello\"))\n",
        "print(40 + 12)\n",
        "print(4*5+20-40)"
      ],
      "metadata": {
        "colab": {
          "base_uri": "https://localhost:8080/"
        },
        "id": "DxhuWMe4E2Zh",
        "outputId": "f13b9a5c-79a0-4cf6-e27d-652f58560079"
      },
      "execution_count": null,
      "outputs": [
        {
          "output_type": "stream",
          "name": "stdout",
          "text": [
            "5\n",
            "52\n",
            "0\n"
          ]
        }
      ]
    },
    {
      "cell_type": "markdown",
      "source": [
        "5. This assignment statements, like spam = 10. What is the difference between an expression and a statement?"
      ],
      "metadata": {
        "id": "qvtYL4NGIN4M"
      }
    },
    {
      "cell_type": "markdown",
      "source": [
        "[Expression vs statement](https://youtube.com/watch?v=xSLq5pXxao0)\n",
        "\n"
      ],
      "metadata": {
        "id": "W5octgTZOjpf"
      }
    },
    {
      "cell_type": "code",
      "source": [
        "iq = 100;\n",
        "user_age = iq/5\n",
        "\n",
        "# Here, iq/5 is and expression which produces some values\n",
        "# The whole line, (user_age = iq/5) is an statment.\n",
        "\n",
        "courseName = \"INeuron FullStack DataScience\" # Statement\n",
        "print(\"My name is Jon!\") # Is a Expression Statement.\n",
        "\n"
      ],
      "metadata": {
        "id": "8pR9b5kgHnGl",
        "colab": {
          "base_uri": "https://localhost:8080/"
        },
        "outputId": "9d4a4572-5136-4c52-bae9-4167184b0db2"
      },
      "execution_count": null,
      "outputs": [
        {
          "output_type": "stream",
          "name": "stdout",
          "text": [
            "My name is Jon!\n"
          ]
        }
      ]
    },
    {
      "cell_type": "markdown",
      "source": [
        "**6.After running the following code, what does the variable bacon contain?**\n",
        "\n",
        "```\n",
        "bacon = 22\n",
        "\n",
        "bacon + 1\n",
        "```\n",
        "\n",
        "\n",
        "\n",
        "\n"
      ],
      "metadata": {
        "id": "J_J1fD0eE_rF"
      }
    },
    {
      "cell_type": "code",
      "source": [
        "bacon = 22\n",
        "bacon + 1 # This, doesn't make any value change\n",
        "print(bacon) \n",
        "\n",
        "# bacon+=1  # This make value change."
      ],
      "metadata": {
        "colab": {
          "base_uri": "https://localhost:8080/"
        },
        "id": "CivYa6xzSp1K",
        "outputId": "a37d026d-8c43-4536-9d11-a2d93e74a08f"
      },
      "execution_count": null,
      "outputs": [
        {
          "output_type": "stream",
          "name": "stdout",
          "text": [
            "22\n"
          ]
        }
      ]
    },
    {
      "cell_type": "markdown",
      "source": [
        "**7.What should the values of the following two terms be?**\n",
        "\n",
        "```\n",
        "'spam'+'spamspam'\n",
        "'spam'*\n",
        "```\n",
        "\n",
        "\n",
        "\n"
      ],
      "metadata": {
        "id": "qc-K7RVEF5UE"
      }
    },
    {
      "cell_type": "code",
      "source": [
        "print('spam' + 'spamspam') # String concatenation\n",
        "print('spam' * 3) # String multipliation\n",
        "\n",
        " # Output -> Both Same "
      ],
      "metadata": {
        "colab": {
          "base_uri": "https://localhost:8080/"
        },
        "id": "Q35ALTydFiQW",
        "outputId": "f437988e-8fe2-4b6e-ae4d-03068279fd6f"
      },
      "execution_count": null,
      "outputs": [
        {
          "output_type": "stream",
          "name": "stdout",
          "text": [
            "spamspamspam\n",
            "spamspamspam\n"
          ]
        }
      ]
    },
    {
      "cell_type": "markdown",
      "source": [
        "**8. Why is eggs a valid variable name while 100 is invalid?**"
      ],
      "metadata": {
        "id": "TIUCNa7fGX7J"
      }
    },
    {
      "cell_type": "markdown",
      "source": [
        "Ans: Because, as the python naming variable rule, \n",
        "\n",
        "1. must start with a letter or underscore.\n",
        "2. Cannot start with a number.\n",
        "3. Only contain (A-z, 0-9, & _ )\n",
        "4. Variable name are case sensitive (RAM, ram and Ram are three different variables.)\n",
        "5. Reserved word i.e. Keyword cannot be used as naming the variable.\n"
      ],
      "metadata": {
        "id": "DY3KLLUFGcYe"
      }
    },
    {
      "cell_type": "code",
      "source": [
        "egg = \"This is valid\"\n",
        "100 = \"This is invalid\"\n",
        "\n",
        "print(egg)\n",
        "print(100)"
      ],
      "metadata": {
        "colab": {
          "base_uri": "https://localhost:8080/",
          "height": 149
        },
        "id": "8a4J1doZGII6",
        "outputId": "72a77a0b-a833-4eab-cf94-5017c3f8ea96"
      },
      "execution_count": null,
      "outputs": [
        {
          "output_type": "error",
          "ename": "SyntaxError",
          "evalue": "ignored",
          "traceback": [
            "\u001b[0;36m  File \u001b[0;32m\"<ipython-input-10-f18fdac22e11>\"\u001b[0;36m, line \u001b[0;32m2\u001b[0m\n\u001b[0;31m    100 = \"This is invalid\"\u001b[0m\n\u001b[0m                           ^\u001b[0m\n\u001b[0;31mSyntaxError\u001b[0m\u001b[0;31m:\u001b[0m can't assign to literal\n"
          ]
        }
      ]
    },
    {
      "cell_type": "markdown",
      "source": [
        "**9. What three functions can be used to get the integer, floating-point number, or string version of a value?**"
      ],
      "metadata": {
        "id": "p0AdwHpWHZdv"
      }
    },
    {
      "cell_type": "markdown",
      "source": [
        "Ans:\n",
        "\n",
        "1. int() function is used to get the integer value. Return an expression converted into an integer number.\n",
        "2. float() function is used to get the floating-point value. Return an expression converted into an floating-point number.\n",
        "3. str() function is used to get the string representation. Return an expression converted into an string.\n"
      ],
      "metadata": {
        "id": "5mKbB7GSHkwH"
      }
    },
    {
      "cell_type": "code",
      "source": [
        "print('Integer: ', int(10.89)) # Passing float -> int\n",
        "print('Float: ', float(20)) # Passing int -> float\n",
        "print('String: ', str(21)) # Passing int -> string"
      ],
      "metadata": {
        "colab": {
          "base_uri": "https://localhost:8080/"
        },
        "id": "sRicyqJrHOES",
        "outputId": "92fdfb6b-a3a3-46f7-9bce-c1bc4865bdc0"
      },
      "execution_count": null,
      "outputs": [
        {
          "output_type": "stream",
          "name": "stdout",
          "text": [
            "Integer:  10\n",
            "Float:  20.0\n",
            "String:  21\n"
          ]
        }
      ]
    },
    {
      "cell_type": "markdown",
      "source": [
        "**10. Why does this expression cause an error? How can you fix it?**\n",
        "\n",
        "`'I have eaten ' + 99 + ' burritos.' `\n",
        "\n"
      ],
      "metadata": {
        "id": "xXmroVaTIiOW"
      }
    },
    {
      "cell_type": "markdown",
      "source": [
        "Ans: \n",
        "\n",
        "Here, 99 is an integer value, not an string. So, concatenation with string is not possible. That's why  need to convert 99 into string '99'."
      ],
      "metadata": {
        "id": "bYE0XCuLIqJR"
      }
    },
    {
      "cell_type": "code",
      "source": [
        "print('I have eaten ' + str(99) + ' burritos.')"
      ],
      "metadata": {
        "colab": {
          "base_uri": "https://localhost:8080/"
        },
        "id": "MmRMA4yMIfr6",
        "outputId": "4b443ead-8908-4734-b331-760ef756d9bf"
      },
      "execution_count": null,
      "outputs": [
        {
          "output_type": "stream",
          "name": "stdout",
          "text": [
            "I have eaten 99 burritos.\n"
          ]
        }
      ]
    },
    {
      "cell_type": "code",
      "source": [
        ""
      ],
      "metadata": {
        "id": "NQSSfcYGJJIO"
      },
      "execution_count": null,
      "outputs": []
    }
  ]
}