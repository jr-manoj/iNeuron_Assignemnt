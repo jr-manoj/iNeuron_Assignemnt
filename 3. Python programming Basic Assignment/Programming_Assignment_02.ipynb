{
  "nbformat": 4,
  "nbformat_minor": 0,
  "metadata": {
    "colab": {
      "name": "Programming Assignment_02.ipynb",
      "provenance": [],
      "collapsed_sections": [],
      "authorship_tag": "ABX9TyNczU821qm7dJdsatsugVKF",
      "include_colab_link": true
    },
    "kernelspec": {
      "name": "python3",
      "display_name": "Python 3"
    },
    "language_info": {
      "name": "python"
    }
  },
  "cells": [
    {
      "cell_type": "markdown",
      "metadata": {
        "id": "view-in-github",
        "colab_type": "text"
      },
      "source": [
        "<a href=\"https://colab.research.google.com/github/jr-manoj/iNeuron_Assignemnt/blob/main/Programming_Assignment_02.ipynb\" target=\"_parent\"><img src=\"https://colab.research.google.com/assets/colab-badge.svg\" alt=\"Open In Colab\"/></a>"
      ]
    },
    {
      "cell_type": "markdown",
      "source": [
        "**1.\tWrite a Python program to convert kilometers to miles?**"
      ],
      "metadata": {
        "id": "f_B4tryvu5hg"
      }
    },
    {
      "cell_type": "code",
      "source": [
        "# 1 kilometer equal 0.621371 mile\n",
        "\n",
        "user_input = int(input(\"Enter the kilometers: \"))\n",
        "\n",
        "def kilo_to_mile(kilometer):\n",
        "  return kilometer * 0.621371\n",
        "  \n",
        "\n",
        "print(f\"{user_input} kilometer equals {kilo_to_mile(user_input)} miles.\")  "
      ],
      "metadata": {
        "colab": {
          "base_uri": "https://localhost:8080/"
        },
        "id": "zJ_e64ydvsNN",
        "outputId": "6217f39e-3427-4848-90ff-6005be0acd81"
      },
      "execution_count": 2,
      "outputs": [
        {
          "output_type": "stream",
          "name": "stdout",
          "text": [
            "Enter the kilometers: 100\n",
            "100 kilometer equals 62.137100000000004 miles.\n"
          ]
        }
      ]
    },
    {
      "cell_type": "markdown",
      "source": [
        "**2.\tWrite a Python program to convert Celsius to Fahrenheit?**"
      ],
      "metadata": {
        "id": "8cdWe6U2u5w1"
      }
    },
    {
      "cell_type": "code",
      "source": [
        "# Formula: (C * 9/5)+32\n",
        "\n",
        "\n",
        "def conv_fahrenheit():\n",
        "  celsius = int(input(\"Enter celsius: \"))\n",
        "  fahrenheit = (celsius * 9/5) + 32\n",
        "  print(f\"{celsius}° Celsius = {fahrenheit}° Fahrenheit.\")\n",
        "\n",
        "conv_fahrenheit()"
      ],
      "metadata": {
        "colab": {
          "base_uri": "https://localhost:8080/"
        },
        "id": "D1O372AsTtsw",
        "outputId": "2ed3a8e0-bc8a-4006-f2a4-8cecdada75ee"
      },
      "execution_count": 10,
      "outputs": [
        {
          "output_type": "stream",
          "name": "stdout",
          "text": [
            "Enter celsius: 27\n",
            "27° Celsius = 80.6° Fahrenheit.\n"
          ]
        }
      ]
    },
    {
      "cell_type": "markdown",
      "source": [
        "**3.\tWrite a Python program to display calendar?**"
      ],
      "metadata": {
        "id": "ZjBdyGVhu5zU"
      }
    },
    {
      "cell_type": "code",
      "source": [
        "import calendar\n",
        "\n",
        "year = int(input('Enter the year: '))\n",
        "month = int(input('Enter the month: '))\n",
        "\n",
        "print(calendar.month(year,month))"
      ],
      "metadata": {
        "colab": {
          "base_uri": "https://localhost:8080/"
        },
        "id": "B2-W-HLqUhDf",
        "outputId": "3e1bbc63-5a60-4cc8-e64c-5a41b6cca180"
      },
      "execution_count": 7,
      "outputs": [
        {
          "output_type": "stream",
          "name": "stdout",
          "text": [
            "Enter the year: 2022\n",
            "Enter the month: 7\n",
            "     July 2022\n",
            "Mo Tu We Th Fr Sa Su\n",
            "             1  2  3\n",
            " 4  5  6  7  8  9 10\n",
            "11 12 13 14 15 16 17\n",
            "18 19 20 21 22 23 24\n",
            "25 26 27 28 29 30 31\n",
            "\n"
          ]
        }
      ]
    },
    {
      "cell_type": "code",
      "source": [
        "# To print all calendar of that particular year\n",
        "print(calendar.calendar(year))"
      ],
      "metadata": {
        "colab": {
          "base_uri": "https://localhost:8080/"
        },
        "id": "dtbJ5HtBWBU5",
        "outputId": "2f99636e-089a-46e2-f13a-9e9ccd5ec158"
      },
      "execution_count": 11,
      "outputs": [
        {
          "output_type": "stream",
          "name": "stdout",
          "text": [
            "                                  2022\n",
            "\n",
            "      January                   February                   March\n",
            "Mo Tu We Th Fr Sa Su      Mo Tu We Th Fr Sa Su      Mo Tu We Th Fr Sa Su\n",
            "                1  2          1  2  3  4  5  6          1  2  3  4  5  6\n",
            " 3  4  5  6  7  8  9       7  8  9 10 11 12 13       7  8  9 10 11 12 13\n",
            "10 11 12 13 14 15 16      14 15 16 17 18 19 20      14 15 16 17 18 19 20\n",
            "17 18 19 20 21 22 23      21 22 23 24 25 26 27      21 22 23 24 25 26 27\n",
            "24 25 26 27 28 29 30      28                        28 29 30 31\n",
            "31\n",
            "\n",
            "       April                      May                       June\n",
            "Mo Tu We Th Fr Sa Su      Mo Tu We Th Fr Sa Su      Mo Tu We Th Fr Sa Su\n",
            "             1  2  3                         1             1  2  3  4  5\n",
            " 4  5  6  7  8  9 10       2  3  4  5  6  7  8       6  7  8  9 10 11 12\n",
            "11 12 13 14 15 16 17       9 10 11 12 13 14 15      13 14 15 16 17 18 19\n",
            "18 19 20 21 22 23 24      16 17 18 19 20 21 22      20 21 22 23 24 25 26\n",
            "25 26 27 28 29 30         23 24 25 26 27 28 29      27 28 29 30\n",
            "                          30 31\n",
            "\n",
            "        July                     August                  September\n",
            "Mo Tu We Th Fr Sa Su      Mo Tu We Th Fr Sa Su      Mo Tu We Th Fr Sa Su\n",
            "             1  2  3       1  2  3  4  5  6  7                1  2  3  4\n",
            " 4  5  6  7  8  9 10       8  9 10 11 12 13 14       5  6  7  8  9 10 11\n",
            "11 12 13 14 15 16 17      15 16 17 18 19 20 21      12 13 14 15 16 17 18\n",
            "18 19 20 21 22 23 24      22 23 24 25 26 27 28      19 20 21 22 23 24 25\n",
            "25 26 27 28 29 30 31      29 30 31                  26 27 28 29 30\n",
            "\n",
            "      October                   November                  December\n",
            "Mo Tu We Th Fr Sa Su      Mo Tu We Th Fr Sa Su      Mo Tu We Th Fr Sa Su\n",
            "                1  2          1  2  3  4  5  6                1  2  3  4\n",
            " 3  4  5  6  7  8  9       7  8  9 10 11 12 13       5  6  7  8  9 10 11\n",
            "10 11 12 13 14 15 16      14 15 16 17 18 19 20      12 13 14 15 16 17 18\n",
            "17 18 19 20 21 22 23      21 22 23 24 25 26 27      19 20 21 22 23 24 25\n",
            "24 25 26 27 28 29 30      28 29 30                  26 27 28 29 30 31\n",
            "31\n",
            "\n"
          ]
        }
      ]
    },
    {
      "cell_type": "markdown",
      "source": [
        "**4.\tWrite a Python program to solve quadratic equation?**"
      ],
      "metadata": {
        "id": "X5ekf-2Uu516"
      }
    },
    {
      "cell_type": "code",
      "source": [
        "# Quadratic eqn -> ax**2 + bx +  =0\n",
        "# Quadratic Formula -> \n",
        "# 1. -b - sqrt(b**2 - 4*a*c)\n",
        "# 2. -b + sqrt(b**2 - 4*a*c)"
      ],
      "metadata": {
        "id": "a22nYsIYX7Yr"
      },
      "execution_count": 12,
      "outputs": []
    },
    {
      "cell_type": "code",
      "source": [
        "# import complex math module\n",
        "import cmath\n",
        "\n",
        "a = float(input('Enter a value: '))\n",
        "b = float(input('Enter b value: '))\n",
        "c = float(input('Enter c value: '))\n",
        "\n",
        "# calculating discriment\n",
        "d = (b**2 - (4*a*c))\n",
        "\n",
        "# Now, two solution (- and +)\n",
        "sol1 = (-b-cmath.sqrt(d))/(2* a)\n",
        "sol2 = (-b+cmath.sqrt(d))/(2* a)\n",
        "\n",
        "\n",
        "print(\"Output1: \", sol1)\n",
        "print(\"Output2: \", sol1)"
      ],
      "metadata": {
        "colab": {
          "base_uri": "https://localhost:8080/"
        },
        "id": "tWbTcgUTZqAZ",
        "outputId": "a7ca35d5-28ef-4739-acaf-b2aa0b1eb2fe"
      },
      "execution_count": 17,
      "outputs": [
        {
          "output_type": "stream",
          "name": "stdout",
          "text": [
            "Enter a value: 10\n",
            "Enter b value: 31\n",
            "Enter c value: 26\n",
            "Output1:  (-1.55-0.44440972086577946j)\n",
            "Output2:  (-1.55-0.44440972086577946j)\n"
          ]
        }
      ]
    },
    {
      "cell_type": "markdown",
      "source": [
        "**5.\tWrite a Python program to swap two variables without temp variable?**"
      ],
      "metadata": {
        "id": "7i4OgZczu54b"
      }
    },
    {
      "cell_type": "code",
      "source": [
        "# Formula\n",
        "# n1 = 5 and n2 = 4\n",
        "# n1 = n1 + n2 -> (5 + 4) = 9\n",
        "# n2 = n1-n2  ->  (9 - 4) = 5\n",
        "# n1 = n1-n2  ->  (9 - 5) = 4\n",
        "\n",
        "# So, n1 = 4 and n2 = 5"
      ],
      "metadata": {
        "id": "9e65vWRDu8sS"
      },
      "execution_count": null,
      "outputs": []
    },
    {
      "cell_type": "code",
      "source": [
        "\n",
        "def swap_two_num():\n",
        "  \n",
        "  num1 = int(input(\"Enter first number: \"))\n",
        "  num2 = int(input(\"Enter second number: \"))\n",
        "  print(\"\\nBefore swaping: \", num1, num2)\n",
        "  print('-'*30)\n",
        "\n",
        "  # swaping two num\n",
        "  num1 = num1 + num2\n",
        "  num2 = num1 - num2\n",
        "  num1 = num1 - num2\n",
        "\n",
        "  print(\"After swaping: \", num1, num2)\n",
        "\n",
        "\n",
        "\n",
        "swap_two_num()\n"
      ],
      "metadata": {
        "colab": {
          "base_uri": "https://localhost:8080/"
        },
        "id": "azZ47_JubyfX",
        "outputId": "b63f6859-c771-44c0-992f-47ecb3bd77de"
      },
      "execution_count": 19,
      "outputs": [
        {
          "output_type": "stream",
          "name": "stdout",
          "text": [
            "Enter first number: 12\n",
            "Enter second number: 13\n",
            "\n",
            "Before swaping:  12 13\n",
            "------------------------------\n",
            "After swaping:  13 12\n"
          ]
        }
      ]
    },
    {
      "cell_type": "code",
      "source": [
        ""
      ],
      "metadata": {
        "id": "WTpgIz7_cS5V"
      },
      "execution_count": null,
      "outputs": []
    }
  ]
}