{
  "nbformat": 4,
  "nbformat_minor": 0,
  "metadata": {
    "colab": {
      "name": "Assignment_5.ipynb",
      "provenance": [],
      "collapsed_sections": [],
      "include_colab_link": true
    },
    "kernelspec": {
      "name": "python3",
      "display_name": "Python 3"
    },
    "language_info": {
      "name": "python"
    }
  },
  "cells": [
    {
      "cell_type": "markdown",
      "metadata": {
        "id": "view-in-github",
        "colab_type": "text"
      },
      "source": [
        "<a href=\"https://colab.research.google.com/github/jr-manoj/iNeuron_Assignemnt/blob/main/Assignment_5.ipynb\" target=\"_parent\"><img src=\"https://colab.research.google.com/assets/colab-badge.svg\" alt=\"Open In Colab\"/></a>"
      ]
    },
    {
      "cell_type": "code",
      "execution_count": null,
      "metadata": {
        "id": "PO105uyLO7wO"
      },
      "outputs": [],
      "source": [
        ""
      ]
    },
    {
      "cell_type": "markdown",
      "source": [
        "1. What does an empty dictionary's code look like?"
      ],
      "metadata": {
        "id": "pfYlhwcAPwd0"
      }
    },
    {
      "cell_type": "code",
      "source": [
        "emtdict = {} # Or, emtdict = dict()\n",
        "\n",
        "print(f\"Empty dict: {emtdict}\")"
      ],
      "metadata": {
        "colab": {
          "base_uri": "https://localhost:8080/"
        },
        "id": "4rAvCSiPP7dq",
        "outputId": "c69fdb7d-db70-4464-a8ce-a31708747274"
      },
      "execution_count": null,
      "outputs": [
        {
          "output_type": "stream",
          "name": "stdout",
          "text": [
            "Empty dict: {}\n"
          ]
        }
      ]
    },
    {
      "cell_type": "code",
      "source": [
        ""
      ],
      "metadata": {
        "id": "fdhY5Mmtgz4L"
      },
      "execution_count": null,
      "outputs": []
    },
    {
      "cell_type": "markdown",
      "source": [
        "2. What is the value of a dictionary value with the key 'foo' and the value 42?"
      ],
      "metadata": {
        "id": "dqoQDEbpPzWo"
      }
    },
    {
      "cell_type": "code",
      "source": [
        "d = {'foo': 42}"
      ],
      "metadata": {
        "id": "t-ek5CD_Te4R"
      },
      "execution_count": null,
      "outputs": []
    },
    {
      "cell_type": "code",
      "source": [
        "d"
      ],
      "metadata": {
        "colab": {
          "base_uri": "https://localhost:8080/"
        },
        "id": "jmWPyfoVTkQv",
        "outputId": "b68c076a-9e46-4bb8-d1a4-2e19b34d8265"
      },
      "execution_count": null,
      "outputs": [
        {
          "output_type": "execute_result",
          "data": {
            "text/plain": [
              "{'foo': 42}"
            ]
          },
          "metadata": {},
          "execution_count": 3
        }
      ]
    },
    {
      "cell_type": "code",
      "source": [
        ""
      ],
      "metadata": {
        "id": "SoGbSRpqg0m3"
      },
      "execution_count": null,
      "outputs": []
    },
    {
      "cell_type": "markdown",
      "source": [
        "3. What is the most significant distinction between a dictionary and a list?"
      ],
      "metadata": {
        "id": "O1YwbSdePzfo"
      }
    },
    {
      "cell_type": "markdown",
      "source": [
        "Ans: The most significant distinction between a dictionary and a list is the items which are stored in dictionary are unordered but list items are ordered."
      ],
      "metadata": {
        "id": "CH_x0i9qUJSJ"
      }
    },
    {
      "cell_type": "code",
      "source": [
        ""
      ],
      "metadata": {
        "id": "fS7IuAuug1fr"
      },
      "execution_count": null,
      "outputs": []
    },
    {
      "cell_type": "markdown",
      "source": [
        "4.What happens if you try to access spam ['foo'] if spam is {'bar':100} ?"
      ],
      "metadata": {
        "id": "-vhKAgFhPzov"
      }
    },
    {
      "cell_type": "markdown",
      "source": [
        "Ans: Provide an **KeyError** message as the key 'foo' is not in spam "
      ],
      "metadata": {
        "id": "IhtEOvD6VEoR"
      }
    },
    {
      "cell_type": "code",
      "source": [
        "spam = {'bar': 100}\n",
        "spam"
      ],
      "metadata": {
        "colab": {
          "base_uri": "https://localhost:8080/"
        },
        "id": "h27QexGzU4PS",
        "outputId": "17bcee46-3c51-4173-b728-39e6b4908c89"
      },
      "execution_count": null,
      "outputs": [
        {
          "output_type": "execute_result",
          "data": {
            "text/plain": [
              "{'bar': 100}"
            ]
          },
          "metadata": {},
          "execution_count": 4
        }
      ]
    },
    {
      "cell_type": "code",
      "source": [
        "# Try to acess spam['foo']\n",
        "spam['foo']"
      ],
      "metadata": {
        "colab": {
          "base_uri": "https://localhost:8080/",
          "height": 184
        },
        "id": "kDh9p-4DU-C-",
        "outputId": "76d2d3f4-0f92-45f5-814f-7d34423f21c5"
      },
      "execution_count": null,
      "outputs": [
        {
          "output_type": "error",
          "ename": "KeyError",
          "evalue": "ignored",
          "traceback": [
            "\u001b[0;31m---------------------------------------------------------------------------\u001b[0m",
            "\u001b[0;31mKeyError\u001b[0m                                  Traceback (most recent call last)",
            "\u001b[0;32m<ipython-input-5-6402cb6da08f>\u001b[0m in \u001b[0;36m<module>\u001b[0;34m()\u001b[0m\n\u001b[1;32m      1\u001b[0m \u001b[0;31m# Try to acess spam['foo']\u001b[0m\u001b[0;34m\u001b[0m\u001b[0;34m\u001b[0m\u001b[0;34m\u001b[0m\u001b[0m\n\u001b[0;32m----> 2\u001b[0;31m \u001b[0mspam\u001b[0m\u001b[0;34m[\u001b[0m\u001b[0;34m'foo'\u001b[0m\u001b[0;34m]\u001b[0m\u001b[0;34m\u001b[0m\u001b[0;34m\u001b[0m\u001b[0m\n\u001b[0m",
            "\u001b[0;31mKeyError\u001b[0m: 'foo'"
          ]
        }
      ]
    },
    {
      "cell_type": "code",
      "source": [
        ""
      ],
      "metadata": {
        "id": "hAgHbGiJg2Va"
      },
      "execution_count": null,
      "outputs": []
    },
    {
      "cell_type": "code",
      "source": [
        ""
      ],
      "metadata": {
        "id": "7Cdyou91g2Yh"
      },
      "execution_count": null,
      "outputs": []
    },
    {
      "cell_type": "markdown",
      "source": [
        "5.if a dictionary is stored in spam,what is the difference between the expressions 'cat' in spam and 'cat' in spam.keys() ?"
      ],
      "metadata": {
        "id": "VkxSlNAMWSk1"
      }
    },
    {
      "cell_type": "markdown",
      "source": [
        "Ans: There is no difference between this two, both operator check wheather the value 'cat' is exist in variable spam as a key or not. And Return True or False respectively."
      ],
      "metadata": {
        "id": "qgsaKSgCXDoQ"
      }
    },
    {
      "cell_type": "code",
      "source": [
        "spam = {'cat': 2}\n",
        "spam"
      ],
      "metadata": {
        "colab": {
          "base_uri": "https://localhost:8080/"
        },
        "id": "udv72EcNWyOS",
        "outputId": "f5249755-eac1-461d-ed09-7b0fdc2c795d"
      },
      "execution_count": null,
      "outputs": [
        {
          "output_type": "execute_result",
          "data": {
            "text/plain": [
              "{'cat': 2}"
            ]
          },
          "metadata": {},
          "execution_count": 6
        }
      ]
    },
    {
      "cell_type": "code",
      "source": [
        "'cat' in spam "
      ],
      "metadata": {
        "colab": {
          "base_uri": "https://localhost:8080/"
        },
        "id": "FptuGkrOW5qd",
        "outputId": "e30c2c9f-5681-4ed6-d07d-f0625d05677f"
      },
      "execution_count": null,
      "outputs": [
        {
          "output_type": "execute_result",
          "data": {
            "text/plain": [
              "True"
            ]
          },
          "metadata": {},
          "execution_count": 13
        }
      ]
    },
    {
      "cell_type": "code",
      "source": [
        "'cat' in spam.keys() # Same output (NO DIFFERENCE)"
      ],
      "metadata": {
        "colab": {
          "base_uri": "https://localhost:8080/"
        },
        "id": "aLs2amSqW8yf",
        "outputId": "e5b4a124-fcff-4dce-f29a-508931ea6fbd"
      },
      "execution_count": null,
      "outputs": [
        {
          "output_type": "execute_result",
          "data": {
            "text/plain": [
              "True"
            ]
          },
          "metadata": {},
          "execution_count": 10
        }
      ]
    },
    {
      "cell_type": "code",
      "source": [
        ""
      ],
      "metadata": {
        "id": "AMRRRzJgg3qT"
      },
      "execution_count": null,
      "outputs": []
    },
    {
      "cell_type": "markdown",
      "source": [
        "6.if a dictionary is stored in spam,what is the difference between the expressions 'cat' in spam and 'cat' in spam.values() ?"
      ],
      "metadata": {
        "id": "9k-uHvlFPz7W"
      }
    },
    {
      "cell_type": "markdown",
      "source": [
        "Ans: The difference is \n",
        "1. **'cat' in spam** checks whether 'cat' key is presented in spam or not.\n",
        "2. **'cat' in spam.values()** checks whether there is a 'cat' as a value in dictionary. "
      ],
      "metadata": {
        "id": "L_D-BuToY8Pl"
      }
    },
    {
      "cell_type": "code",
      "source": [
        "spam = {'snake': 12, 'dog': 13, 'cat': 13}\n",
        "spam"
      ],
      "metadata": {
        "colab": {
          "base_uri": "https://localhost:8080/"
        },
        "id": "gNZxpcGrYJg5",
        "outputId": "0dff1895-401b-4e5a-fed9-457b012db72f"
      },
      "execution_count": null,
      "outputs": [
        {
          "output_type": "execute_result",
          "data": {
            "text/plain": [
              "{'cat': 13, 'dog': 13, 'snake': 12}"
            ]
          },
          "metadata": {},
          "execution_count": 16
        }
      ]
    },
    {
      "cell_type": "code",
      "source": [
        "'cat' in spam"
      ],
      "metadata": {
        "colab": {
          "base_uri": "https://localhost:8080/"
        },
        "id": "385CkJSsYObf",
        "outputId": "f270befc-315d-47c7-f93c-67a0907787f3"
      },
      "execution_count": null,
      "outputs": [
        {
          "output_type": "execute_result",
          "data": {
            "text/plain": [
              "True"
            ]
          },
          "metadata": {},
          "execution_count": 17
        }
      ]
    },
    {
      "cell_type": "code",
      "source": [
        "'cat' in spam.values() # False, as 'cat' is as 'key' in spam not value."
      ],
      "metadata": {
        "colab": {
          "base_uri": "https://localhost:8080/"
        },
        "id": "ABUxwJjuYVHN",
        "outputId": "c988c6da-64e8-49c0-fe97-29a60c276b95"
      },
      "execution_count": null,
      "outputs": [
        {
          "output_type": "execute_result",
          "data": {
            "text/plain": [
              "False"
            ]
          },
          "metadata": {},
          "execution_count": 19
        }
      ]
    },
    {
      "cell_type": "code",
      "source": [
        ""
      ],
      "metadata": {
        "id": "y7HRvhV4g4ik"
      },
      "execution_count": null,
      "outputs": []
    },
    {
      "cell_type": "markdown",
      "source": [
        "7.what is a shortcut for the following code ?\n",
        "\n",
        "if 'color' not in spam:\n",
        "\n",
        "spam['color'] ='black'"
      ],
      "metadata": {
        "id": "pXgYO5XXP0Et"
      }
    },
    {
      "cell_type": "markdown",
      "source": [
        "Ans: Using setdefault() method\n",
        "-> [W3school](https://www.w3schools.com/python/ref_dictionary_setdefault.asp)"
      ],
      "metadata": {
        "id": "zWH6cmftal-l"
      }
    },
    {
      "cell_type": "code",
      "source": [
        "spam = {'book': 21, 'page': 1200, 'language': 21}\n",
        "spam"
      ],
      "metadata": {
        "colab": {
          "base_uri": "https://localhost:8080/"
        },
        "id": "jDm7E5U2ZzM_",
        "outputId": "64e22e07-43aa-4b03-8ba7-48ce107f3b4f"
      },
      "execution_count": null,
      "outputs": [
        {
          "output_type": "execute_result",
          "data": {
            "text/plain": [
              "{'book': 21, 'language': 21, 'page': 1200}"
            ]
          },
          "metadata": {},
          "execution_count": 36
        }
      ]
    },
    {
      "cell_type": "code",
      "source": [
        "if 'color' not in spam:\n",
        "  spam['color'] = 'black'\n"
      ],
      "metadata": {
        "id": "zL2dWq1zZoKd"
      },
      "execution_count": null,
      "outputs": []
    },
    {
      "cell_type": "code",
      "source": [
        "# Shortcut (code)\n",
        "\n",
        "spam.setdefault('color', 'black')"
      ],
      "metadata": {
        "colab": {
          "base_uri": "https://localhost:8080/",
          "height": 35
        },
        "id": "SZlweLr8aHVp",
        "outputId": "ee23680a-c1fa-4d7a-9575-b968bd66c57e"
      },
      "execution_count": null,
      "outputs": [
        {
          "output_type": "execute_result",
          "data": {
            "text/plain": [
              "'black'"
            ],
            "application/vnd.google.colaboratory.intrinsic+json": {
              "type": "string"
            }
          },
          "metadata": {},
          "execution_count": 39
        }
      ]
    },
    {
      "cell_type": "code",
      "source": [
        "spam"
      ],
      "metadata": {
        "colab": {
          "base_uri": "https://localhost:8080/"
        },
        "id": "fCscWwugaBMA",
        "outputId": "29c795fd-b7ff-45a8-9372-61fa933baed9"
      },
      "execution_count": null,
      "outputs": [
        {
          "output_type": "execute_result",
          "data": {
            "text/plain": [
              "{'book': 21, 'color': 'black', 'language': 21, 'page': 1200}"
            ]
          },
          "metadata": {},
          "execution_count": 38
        }
      ]
    },
    {
      "cell_type": "code",
      "source": [
        ""
      ],
      "metadata": {
        "id": "oh0TAf8zg5aE"
      },
      "execution_count": null,
      "outputs": []
    },
    {
      "cell_type": "markdown",
      "source": [
        "8.How do you 'pretty print' dictionary values using which modules and function ?\n"
      ],
      "metadata": {
        "id": "BuiDWihDP0LP"
      }
    },
    {
      "cell_type": "markdown",
      "source": [
        "[Learn more, Video link](https://www.youtube.com/watch?v=Db-3tzbQANU)\n",
        "\n",
        "**Pretty printing a dictionary means:** printing a dictionary in a way that makes it more readable and presentable.\n",
        "\n",
        "For eg: \n",
        "\n",
        "\n",
        "```\n",
        "{\n",
        "  'manoj': 11\n",
        "  'sandip': 12\n",
        "  'kabin': 13\n",
        "  'benod': 14\n",
        "  'ram': 15\n",
        "}\n",
        "```\n",
        "\n"
      ],
      "metadata": {
        "id": "rBJfIsZpxdp7"
      }
    },
    {
      "cell_type": "markdown",
      "source": [
        "Ans: There are three function which ccan pretty print dictionary:\n",
        "\n",
        "1. by using pprint() function of pprint module\n",
        "\n",
        "**Note:** pprint() function doesnot prettify nested dictionaries\n",
        "2. by using dumps() method of json module\n",
        "3. by using dumps() method of yaml module"
      ],
      "metadata": {
        "id": "kCYXR24AcgWA"
      }
    },
    {
      "cell_type": "code",
      "source": [
        "d = {'first': {'manoj': 'paudel'}, 'second': {'sandip': 'paudel'}, 'third': {'sujal': 'bhattrai'}, 'fourth': {'kabin': 'shrestha'},'Name': 'Bishal', 'Age': '25', 'Residence': {'Country': 'USA', 'City': 'New York'}}\n"
      ],
      "metadata": {
        "id": "8CWS961qPxwq"
      },
      "execution_count": null,
      "outputs": []
    },
    {
      "cell_type": "code",
      "source": [
        "d"
      ],
      "metadata": {
        "colab": {
          "base_uri": "https://localhost:8080/"
        },
        "id": "4zVFOCqld9Fn",
        "outputId": "b583e096-6e34-498c-9430-8ea14c2b6209"
      },
      "execution_count": null,
      "outputs": [
        {
          "output_type": "execute_result",
          "data": {
            "text/plain": [
              "{'Age': '25',\n",
              " 'Name': 'Bishal',\n",
              " 'Residence': {'City': 'New York', 'Country': 'USA'},\n",
              " 'first': {'manoj': 'paudel'},\n",
              " 'fourth': {'kabin': 'shrestha'},\n",
              " 'second': {'sandip': 'paudel'},\n",
              " 'third': {'sujal': 'bhattrai'}}"
            ]
          },
          "metadata": {},
          "execution_count": 31
        }
      ]
    },
    {
      "cell_type": "code",
      "source": [
        "print('\\nPrinting using a print() function\\n', d)\n",
        "print(\"-\"* 100)\n",
        "\n",
        "import pprint\n",
        "print('Printing using a pprint() function\\n')\n",
        "pprint.pprint(d)\n",
        "print(\"-\"* 100)\n",
        "\n",
        "import json\n",
        "dump = json.dumps(d, indent = 4)\n",
        "print(\"Printing using a dumps() method\\n\", dump)\n",
        "print(\"-\"* 100)\n",
        "\n",
        "import yaml\n",
        "dump = yaml.dump(d)\n",
        "print(\"Printing using a dumps() method\\n\", dump)"
      ],
      "metadata": {
        "colab": {
          "base_uri": "https://localhost:8080/"
        },
        "id": "pJedLdc1eRK6",
        "outputId": "5808304e-4a40-4d4c-bf52-fd89cb959653"
      },
      "execution_count": null,
      "outputs": [
        {
          "output_type": "stream",
          "name": "stdout",
          "text": [
            "\n",
            "Printing using a print() function\n",
            " {'first': {'manoj': 'paudel'}, 'second': {'sandip': 'paudel'}, 'third': {'sujal': 'bhattrai'}, 'fourth': {'kabin': 'shrestha'}, 'Name': 'Bishal', 'Age': '25', 'Residence': {'Country': 'USA', 'City': 'New York'}}\n",
            "----------------------------------------------------------------------------------------------------\n",
            "Printing using a pprint() function\n",
            "\n",
            "{'Age': '25',\n",
            " 'Name': 'Bishal',\n",
            " 'Residence': {'City': 'New York', 'Country': 'USA'},\n",
            " 'first': {'manoj': 'paudel'},\n",
            " 'fourth': {'kabin': 'shrestha'},\n",
            " 'second': {'sandip': 'paudel'},\n",
            " 'third': {'sujal': 'bhattrai'}}\n",
            "----------------------------------------------------------------------------------------------------\n",
            "Printing using a dumps() method\n",
            " {\n",
            "    \"first\": {\n",
            "        \"manoj\": \"paudel\"\n",
            "    },\n",
            "    \"second\": {\n",
            "        \"sandip\": \"paudel\"\n",
            "    },\n",
            "    \"third\": {\n",
            "        \"sujal\": \"bhattrai\"\n",
            "    },\n",
            "    \"fourth\": {\n",
            "        \"kabin\": \"shrestha\"\n",
            "    },\n",
            "    \"Name\": \"Bishal\",\n",
            "    \"Age\": \"25\",\n",
            "    \"Residence\": {\n",
            "        \"Country\": \"USA\",\n",
            "        \"City\": \"New York\"\n",
            "    }\n",
            "}\n",
            "----------------------------------------------------------------------------------------------------\n",
            "Printing using a dumps() method\n",
            " Age: '25'\n",
            "Name: Bishal\n",
            "Residence: {City: New York, Country: USA}\n",
            "first: {manoj: paudel}\n",
            "fourth: {kabin: shrestha}\n",
            "second: {sandip: paudel}\n",
            "third: {sujal: bhattrai}\n",
            "\n"
          ]
        }
      ]
    },
    {
      "cell_type": "code",
      "source": [
        ""
      ],
      "metadata": {
        "id": "zyYBJGPHfB2j"
      },
      "execution_count": null,
      "outputs": []
    }
  ]
}