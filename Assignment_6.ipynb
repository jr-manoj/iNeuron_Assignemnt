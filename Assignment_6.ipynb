{
  "nbformat": 4,
  "nbformat_minor": 0,
  "metadata": {
    "colab": {
      "name": "Assignment_6.ipynb",
      "provenance": [],
      "collapsed_sections": [],
      "authorship_tag": "ABX9TyM0wSGQD8SkJyxrBir9eF1A",
      "include_colab_link": true
    },
    "kernelspec": {
      "name": "python3",
      "display_name": "Python 3"
    },
    "language_info": {
      "name": "python"
    }
  },
  "cells": [
    {
      "cell_type": "markdown",
      "metadata": {
        "id": "view-in-github",
        "colab_type": "text"
      },
      "source": [
        "<a href=\"https://colab.research.google.com/github/jr-manoj/iNeuron_Assignemnt/blob/main/Assignment_6.ipynb\" target=\"_parent\"><img src=\"https://colab.research.google.com/assets/colab-badge.svg\" alt=\"Open In Colab\"/></a>"
      ]
    },
    {
      "cell_type": "markdown",
      "source": [
        "**1. What are escape characters, and how do you use them?**"
      ],
      "metadata": {
        "id": "nAPA-lIJyhd2"
      }
    },
    {
      "cell_type": "markdown",
      "source": [
        "Ans: In Python strings, the backslash \" \\ \" is a special character, also called the \"escape\" character. It is used in representing certain whitespace characters: \"\\t\" is a tab, \"\\n\" is a newline, and \"\\r\" is a carriage return."
      ],
      "metadata": {
        "id": "bRn3jww6zaVl"
      }
    },
    {
      "cell_type": "markdown",
      "source": [
        "**2. What do the escape characters n and t stand for?**"
      ],
      "metadata": {
        "id": "INJAyMHxyjSl"
      }
    },
    {
      "cell_type": "markdown",
      "source": [
        "Ans: **\\n** for newline and **\\t** for tab(8 white-space)."
      ],
      "metadata": {
        "id": "4HxDeVVvgy5v"
      }
    },
    {
      "cell_type": "markdown",
      "source": [
        "**3. What is the way to include backslash characters in a string?**"
      ],
      "metadata": {
        "id": "wgHMHJjnyjm3"
      }
    },
    {
      "cell_type": "markdown",
      "source": [
        "Ans: If you want to include a backslash character itself, you need two backslashes **`\\\\`**"
      ],
      "metadata": {
        "id": "Bqy1H-YdiC2s"
      }
    },
    {
      "cell_type": "code",
      "source": [
        "'Here\\'s a backslash: \\\\'"
      ],
      "metadata": {
        "colab": {
          "base_uri": "https://localhost:8080/",
          "height": 37
        },
        "id": "itDalteNhbjY",
        "outputId": "79a2d7dd-9983-4193-f17f-241f929a655b"
      },
      "execution_count": 5,
      "outputs": [
        {
          "output_type": "execute_result",
          "data": {
            "text/plain": [
              "\"Here's a backslash: \\\\\""
            ],
            "application/vnd.google.colaboratory.intrinsic+json": {
              "type": "string"
            }
          },
          "metadata": {},
          "execution_count": 5
        }
      ]
    },
    {
      "cell_type": "markdown",
      "source": [
        "**4. The string \"Howl's Moving Castle\" is a correct value. Why isn't the single quote character in the word Howl's not escaped a problem?**"
      ],
      "metadata": {
        "id": "qKJVU8qCyjwK"
      }
    },
    {
      "cell_type": "code",
      "source": [
        "print(\"Howl's Moving Castle\")"
      ],
      "metadata": {
        "colab": {
          "base_uri": "https://localhost:8080/"
        },
        "id": "Y6D0yG6Sit3l",
        "outputId": "50c63796-64da-4da0-c817-a3d059a5965c"
      },
      "execution_count": 7,
      "outputs": [
        {
          "output_type": "stream",
          "name": "stdout",
          "text": [
            "Howl's Moving Castle\n"
          ]
        }
      ]
    },
    {
      "cell_type": "markdown",
      "source": [
        "Ans: The string `\"Howl's Moving Castle\"` escaped the problem because it is wrapped inside double quotes. If it's wrapped inside single quotes then we have to use escape character `\\'` to show single quote in the final output."
      ],
      "metadata": {
        "id": "DLavVeKQi9QC"
      }
    },
    {
      "cell_type": "code",
      "source": [
        "print('Howl\\'s Moving Castle') "
      ],
      "metadata": {
        "colab": {
          "base_uri": "https://localhost:8080/"
        },
        "id": "Q5I_q2-8jGjV",
        "outputId": "15155241-815b-4e5c-a0a8-7053dfb03134"
      },
      "execution_count": 8,
      "outputs": [
        {
          "output_type": "stream",
          "name": "stdout",
          "text": [
            "Howl's Moving Castle\n"
          ]
        }
      ]
    },
    {
      "cell_type": "markdown",
      "source": [
        "**5. How do you write a string of newlines if you don't want to use the n character?**"
      ],
      "metadata": {
        "id": "HogcR6Wbyjad"
      }
    },
    {
      "cell_type": "code",
      "source": [
        "newline_string = \"\"\"This is a \n",
        "multi-line string.\"\"\"\n",
        "print(newline_string)"
      ],
      "metadata": {
        "colab": {
          "base_uri": "https://localhost:8080/"
        },
        "id": "hvl6bcyXjSFM",
        "outputId": "cfc7fe80-bd34-49bd-f132-fd6b4aa6e06e"
      },
      "execution_count": 12,
      "outputs": [
        {
          "output_type": "stream",
          "name": "stdout",
          "text": [
            "This is a \n",
            "multi-line string.\n"
          ]
        }
      ]
    },
    {
      "cell_type": "markdown",
      "source": [
        "**6. What are the values of the given expressions?**\n",
        "\n",
        "```\n",
        "'Hello, world!'[1]\n",
        "'Hello, world!'[0:5]\n",
        "'Hello, world!'[:5]\n",
        "'Hello, world!'[3:]\n",
        "```\n",
        "\n"
      ],
      "metadata": {
        "id": "w918gG9Yyjfy"
      }
    },
    {
      "cell_type": "code",
      "source": [
        "name = \"Hello, world!\"\n",
        "print(name[1])\n",
        "print(name[0:5]) # excluding 5\n",
        "print(name[:5])\n",
        "print(name[3:]) # from index 3 till end"
      ],
      "metadata": {
        "colab": {
          "base_uri": "https://localhost:8080/"
        },
        "id": "-nTsylOOjopo",
        "outputId": "13045c4c-4ea0-461c-95f7-55fec8e983c1"
      },
      "execution_count": 16,
      "outputs": [
        {
          "output_type": "stream",
          "name": "stdout",
          "text": [
            "e\n",
            "Hello\n",
            "Hello\n",
            "lo, world!\n"
          ]
        }
      ]
    },
    {
      "cell_type": "markdown",
      "source": [
        "**7. What are the values of the following expressions?**\n",
        "```\n",
        "'Hello'.upper()\n",
        "'Hello'.upper().isupper()\n",
        "'Hello'.upper().lower()\n",
        "```\n",
        "\n"
      ],
      "metadata": {
        "id": "-GP5Bno2y6d0"
      }
    },
    {
      "cell_type": "code",
      "source": [
        "print('Hello'.upper())\n",
        "print('Hello'.upper().isupper()) # isupper()-> check is string in upper case or not.\n",
        "print('Hello'.upper().lower())"
      ],
      "metadata": {
        "colab": {
          "base_uri": "https://localhost:8080/"
        },
        "id": "ngnmgAkIj-66",
        "outputId": "9766ddda-307b-4b91-aa45-2b759738cdb0"
      },
      "execution_count": 17,
      "outputs": [
        {
          "output_type": "stream",
          "name": "stdout",
          "text": [
            "HELLO\n",
            "True\n",
            "hello\n"
          ]
        }
      ]
    },
    {
      "cell_type": "markdown",
      "source": [
        "**8. What are the values of the following expressions?**\n",
        "\n",
        "```\n",
        "'Remember, remember, the fifth of July.'.split()\n",
        "'-'.join('There can only one.'.split())\n",
        "```\n",
        "\n"
      ],
      "metadata": {
        "id": "mgZJgQsly6t8"
      }
    },
    {
      "cell_type": "code",
      "source": [
        "print('Remember, remember, the fifth of July.'.split())\n",
        "print('-'.join('There can only one.'.split())) # String join with '-'"
      ],
      "metadata": {
        "colab": {
          "base_uri": "https://localhost:8080/"
        },
        "id": "YDdVdKEbkQak",
        "outputId": "b6c94a36-140b-4c2a-f084-5acff8507c9c"
      },
      "execution_count": 19,
      "outputs": [
        {
          "output_type": "stream",
          "name": "stdout",
          "text": [
            "['Remember,', 'remember,', 'the', 'fifth', 'of', 'July.']\n",
            "There-can-only-one.\n"
          ]
        }
      ]
    },
    {
      "cell_type": "markdown",
      "source": [
        "**9. What are the methods for right-justifying, left-justifying, and centering a string?**"
      ],
      "metadata": {
        "id": "I3EU50GYy6wy"
      }
    },
    {
      "cell_type": "markdown",
      "source": [
        "More: [Geeksforgeeks](https://www.geeksforgeeks.org/python-string-ljust-rjust-center/)"
      ],
      "metadata": {
        "id": "qr7uH5FSkpNa"
      }
    },
    {
      "cell_type": "markdown",
      "source": [
        "Ans: `rjust(),ljust(),center()` are string methods."
      ],
      "metadata": {
        "id": "SX6urvd7k1mv"
      }
    },
    {
      "cell_type": "markdown",
      "source": [
        "**10. What is the best way to remove whitespace characters from the start or end?**"
      ],
      "metadata": {
        "id": "Y2NGGdR5y6zj"
      }
    },
    {
      "cell_type": "markdown",
      "source": [
        "Ans: Using `lstrip() or rstrip()` we can remove whitespace characters."
      ],
      "metadata": {
        "id": "PMBZekYfoS_M"
      }
    },
    {
      "cell_type": "code",
      "source": [
        "s = '   Hello   '\n",
        "s.lstrip()"
      ],
      "metadata": {
        "colab": {
          "base_uri": "https://localhost:8080/",
          "height": 37
        },
        "id": "6X5elwJHoZ8G",
        "outputId": "98b6fe76-ec9d-4f2a-afe1-7fd73950fd24"
      },
      "execution_count": 20,
      "outputs": [
        {
          "output_type": "execute_result",
          "data": {
            "text/plain": [
              "'Hello   '"
            ],
            "application/vnd.google.colaboratory.intrinsic+json": {
              "type": "string"
            }
          },
          "metadata": {},
          "execution_count": 20
        }
      ]
    },
    {
      "cell_type": "code",
      "source": [
        "s.rstrip()"
      ],
      "metadata": {
        "colab": {
          "base_uri": "https://localhost:8080/",
          "height": 37
        },
        "id": "BCpwD7Kkodgj",
        "outputId": "c31056da-643b-4d4d-eddb-a96bf6589fd8"
      },
      "execution_count": 21,
      "outputs": [
        {
          "output_type": "execute_result",
          "data": {
            "text/plain": [
              "'   Hello'"
            ],
            "application/vnd.google.colaboratory.intrinsic+json": {
              "type": "string"
            }
          },
          "metadata": {},
          "execution_count": 21
        }
      ]
    },
    {
      "cell_type": "code",
      "source": [
        ""
      ],
      "metadata": {
        "id": "8BD6xmtwofRM"
      },
      "execution_count": null,
      "outputs": []
    }
  ]
}