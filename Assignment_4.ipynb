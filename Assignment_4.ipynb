{
  "nbformat": 4,
  "nbformat_minor": 0,
  "metadata": {
    "colab": {
      "name": "Assignment_4.ipynb",
      "provenance": [],
      "collapsed_sections": [],
      "authorship_tag": "ABX9TyOiP9N90N3V2qSmaEkNrrJ9",
      "include_colab_link": true
    },
    "kernelspec": {
      "name": "python3",
      "display_name": "Python 3"
    },
    "language_info": {
      "name": "python"
    }
  },
  "cells": [
    {
      "cell_type": "markdown",
      "metadata": {
        "id": "view-in-github",
        "colab_type": "text"
      },
      "source": [
        "<a href=\"https://colab.research.google.com/github/jr-manoj/iNeuron_Assignemnt/blob/main/Assignment_4.ipynb\" target=\"_parent\"><img src=\"https://colab.research.google.com/assets/colab-badge.svg\" alt=\"Open In Colab\"/></a>"
      ]
    },
    {
      "cell_type": "markdown",
      "source": [
        "1. What exactly is [ ] ?"
      ],
      "metadata": {
        "id": "riMntbxv3f7U"
      }
    },
    {
      "cell_type": "markdown",
      "source": [
        "Ans: [ ] is used to create list in python. Here, [] is an empty list which is similar to '' which denote empty string."
      ],
      "metadata": {
        "id": "OeIWDC8M4a2Z"
      }
    },
    {
      "cell_type": "code",
      "source": [
        "lst = []\n",
        "lst"
      ],
      "metadata": {
        "colab": {
          "base_uri": "https://localhost:8080/"
        },
        "id": "PtPnHKQU-f5J",
        "outputId": "9b4b7e12-43fa-4731-da6e-f4c1ca9412ef"
      },
      "execution_count": 6,
      "outputs": [
        {
          "output_type": "execute_result",
          "data": {
            "text/plain": [
              "[]"
            ]
          },
          "metadata": {},
          "execution_count": 6
        }
      ]
    },
    {
      "cell_type": "markdown",
      "source": [
        "2. In a list of values stored in a variable called spam, how would you assign the value 'hello' as the third value? (Assume [2, 4, 6, 8, 10] are in spam.)\n"
      ],
      "metadata": {
        "id": "DxuItMnH-c0s"
      }
    },
    {
      "cell_type": "markdown",
      "source": [
        "Ans: By using insert() method or by directly like spam[2] = 'hello'."
      ],
      "metadata": {
        "id": "ItDyMzx7-nfO"
      }
    },
    {
      "cell_type": "code",
      "source": [
        "spam = [2,4,6,8,10]"
      ],
      "metadata": {
        "id": "xaAnphBW-feG"
      },
      "execution_count": 17,
      "outputs": []
    },
    {
      "cell_type": "code",
      "source": [
        "# Assign the value 'hello' as the third value\n",
        "\n",
        "spam.insert(2,'hello')\n",
        "\n",
        "# Or, \n",
        "# spam[2] = 'hello'\n"
      ],
      "metadata": {
        "id": "veazDMoL3iOd"
      },
      "execution_count": 18,
      "outputs": []
    },
    {
      "cell_type": "code",
      "source": [
        "spam"
      ],
      "metadata": {
        "colab": {
          "base_uri": "https://localhost:8080/"
        },
        "id": "hfBTXFIR4X9F",
        "outputId": "c16910aa-f600-41a6-c32c-5372e883adfd"
      },
      "execution_count": 19,
      "outputs": [
        {
          "output_type": "execute_result",
          "data": {
            "text/plain": [
              "[2, 4, 'hello', 6, 8, 10]"
            ]
          },
          "metadata": {},
          "execution_count": 19
        }
      ]
    },
    {
      "cell_type": "markdown",
      "source": [
        "# Let's pretend the spam includes the list ['a', 'b', 'c', 'd'] for the next three queries."
      ],
      "metadata": {
        "id": "qRgRp54u_xYv"
      }
    },
    {
      "cell_type": "markdown",
      "source": [
        "3. What is the value of spam[int(int('3' * 2) / 11)]?"
      ],
      "metadata": {
        "id": "HVdyzr3O_zwD"
      }
    },
    {
      "cell_type": "markdown",
      "source": [
        "Ans: Here, '3' is string so when it multiply with 2 then` 33` will be the output. And when the output int(33/11) then `3` which is index 3. So it will print **'d'** value."
      ],
      "metadata": {
        "id": "1n19SeMAAPZh"
      }
    },
    {
      "cell_type": "code",
      "source": [
        "spam = ['a','b','c','d']\n",
        "spam[int(int('3'*2)/11)]"
      ],
      "metadata": {
        "colab": {
          "base_uri": "https://localhost:8080/",
          "height": 37
        },
        "id": "PsiFHxzI_NEu",
        "outputId": "12cc4fac-2341-426f-8373-f8255bb03650"
      },
      "execution_count": 20,
      "outputs": [
        {
          "output_type": "execute_result",
          "data": {
            "text/plain": [
              "'d'"
            ],
            "application/vnd.google.colaboratory.intrinsic+json": {
              "type": "string"
            }
          },
          "metadata": {},
          "execution_count": 20
        }
      ]
    },
    {
      "cell_type": "markdown",
      "source": [
        "4. What is the value of spam[-1]?"
      ],
      "metadata": {
        "id": "49LIIFGkA7Sf"
      }
    },
    {
      "cell_type": "code",
      "source": [
        "spam[-1] # Last value"
      ],
      "metadata": {
        "colab": {
          "base_uri": "https://localhost:8080/",
          "height": 37
        },
        "id": "EoS01PrWAA4s",
        "outputId": "a8832e96-c372-4e96-c3e2-53ab1fe10d6c"
      },
      "execution_count": 31,
      "outputs": [
        {
          "output_type": "execute_result",
          "data": {
            "text/plain": [
              "'d'"
            ],
            "application/vnd.google.colaboratory.intrinsic+json": {
              "type": "string"
            }
          },
          "metadata": {},
          "execution_count": 31
        }
      ]
    },
    {
      "cell_type": "markdown",
      "source": [
        "5. What is the value of spam[:2]?"
      ],
      "metadata": {
        "id": "Avm4BjZ_BCf2"
      }
    },
    {
      "cell_type": "code",
      "source": [
        "spam[:2] # start from beginning till 2 (excluding 2)"
      ],
      "metadata": {
        "colab": {
          "base_uri": "https://localhost:8080/"
        },
        "id": "MnUqpSruADvs",
        "outputId": "2b5092c5-6528-4ff3-fab6-b85de442dbe6"
      },
      "execution_count": 33,
      "outputs": [
        {
          "output_type": "execute_result",
          "data": {
            "text/plain": [
              "['a', 'b']"
            ]
          },
          "metadata": {},
          "execution_count": 33
        }
      ]
    },
    {
      "cell_type": "markdown",
      "source": [
        "## Let's pretend bacon has the list [3.14, 'cat,' 11, 'cat,' True] for the next three questions."
      ],
      "metadata": {
        "id": "dR8d9WHcBOSX"
      }
    },
    {
      "cell_type": "code",
      "source": [
        "bacon = [3.14, 'cat', 11, 'cat', True]"
      ],
      "metadata": {
        "id": "hlOzhSg6A1F2"
      },
      "execution_count": 34,
      "outputs": []
    },
    {
      "cell_type": "markdown",
      "source": [
        "6. What is the value of bacon.index('cat')?"
      ],
      "metadata": {
        "id": "1jj5hywuBSS2"
      }
    },
    {
      "cell_type": "code",
      "source": [
        "bacon.index('cat') # NOTE: Because, index method returns the index of first occuerence of 'cat'"
      ],
      "metadata": {
        "colab": {
          "base_uri": "https://localhost:8080/"
        },
        "id": "3nXVt2RpBSxl",
        "outputId": "2ffc3b6e-26c2-46a4-8566-28392b76b870"
      },
      "execution_count": 44,
      "outputs": [
        {
          "output_type": "execute_result",
          "data": {
            "text/plain": [
              "1"
            ]
          },
          "metadata": {},
          "execution_count": 44
        }
      ]
    },
    {
      "cell_type": "markdown",
      "source": [
        "7. How does bacon.append(99) change the look of the list value in bacon?"
      ],
      "metadata": {
        "id": "LawXAemdBhUI"
      }
    },
    {
      "cell_type": "code",
      "source": [
        "print(bacon)\n",
        "bacon.append(99) # NOTE: Append always append value to the end of the list\n",
        "bacon\n"
      ],
      "metadata": {
        "colab": {
          "base_uri": "https://localhost:8080/"
        },
        "id": "f78JzLcrBZBH",
        "outputId": "7639e7d2-396f-44a6-f798-fa5ea5783dd1"
      },
      "execution_count": 45,
      "outputs": [
        {
          "output_type": "stream",
          "name": "stdout",
          "text": [
            "[3.14, 'cat', 11, 'cat', True, 99, 99, 99, 99, 99]\n"
          ]
        },
        {
          "output_type": "execute_result",
          "data": {
            "text/plain": [
              "[3.14, 'cat', 11, 'cat', True, 99, 99, 99, 99, 99, 99]"
            ]
          },
          "metadata": {},
          "execution_count": 45
        }
      ]
    },
    {
      "cell_type": "markdown",
      "source": [
        "8. How does bacon.remove('cat') change the look of the list in bacon?"
      ],
      "metadata": {
        "id": "rj8G59GZCBZI"
      }
    },
    {
      "cell_type": "code",
      "source": [
        "print(bacon)\n",
        "bacon.remove('cat') # .remove() always remove the first occuerence of 'cat' which is in index 1.\n",
        "bacon"
      ],
      "metadata": {
        "colab": {
          "base_uri": "https://localhost:8080/"
        },
        "id": "qAVbEVh3BoKX",
        "outputId": "71f373e6-3151-4b20-d98c-442cc0f0afa8"
      },
      "execution_count": 47,
      "outputs": [
        {
          "output_type": "stream",
          "name": "stdout",
          "text": [
            "[3.14, 11, 'cat', True, 99, 99, 99, 99, 99, 99]\n"
          ]
        },
        {
          "output_type": "execute_result",
          "data": {
            "text/plain": [
              "[3.14, 11, True, 99, 99, 99, 99, 99, 99]"
            ]
          },
          "metadata": {},
          "execution_count": 47
        }
      ]
    },
    {
      "cell_type": "markdown",
      "source": [
        "9. What are the list concatenation and list replication operators?"
      ],
      "metadata": {
        "id": "PJqa-y_lCT9C"
      }
    },
    {
      "cell_type": "markdown",
      "source": [
        "Ans: \n",
        "\n",
        "For list concatenation `+` operator is used.\n",
        "\n",
        "For list replication `'*'` operator is used."
      ],
      "metadata": {
        "id": "oOrb8Uu6CiC7"
      }
    },
    {
      "cell_type": "code",
      "source": [
        "lst1 = ['manoj', 'kumar', 'kabin', 'prabin', 'kushal']\n",
        "lst2 = ['birat', 'binod','bibek']\n",
        "# List concatenation\n",
        "print(lst1+lst2)\n",
        "# List replication \n",
        "print(lst2 * 2) # Replicate the list 2 times."
      ],
      "metadata": {
        "colab": {
          "base_uri": "https://localhost:8080/"
        },
        "id": "-6DzjePbCJCR",
        "outputId": "56dc080f-d9ce-4187-9d51-cfabac027dfc"
      },
      "execution_count": 51,
      "outputs": [
        {
          "output_type": "stream",
          "name": "stdout",
          "text": [
            "['manoj', 'kumar', 'kabin', 'prabin', 'kushal', 'birat', 'binod', 'bibek']\n",
            "['birat', 'binod', 'bibek', 'birat', 'binod', 'bibek']\n"
          ]
        }
      ]
    },
    {
      "cell_type": "markdown",
      "source": [
        "10. What is difference between the list methods append() and insert()?"
      ],
      "metadata": {
        "id": "kPFHY0AADX_P"
      }
    },
    {
      "cell_type": "markdown",
      "source": [
        "Ans: Both methods, help to insert the value into the list. But the major differnce between two is the `append() method always add the value at the end of the list.` Whereas, `the insert() method can add the value anywhere in the list.`"
      ],
      "metadata": {
        "id": "Wx2463O_Dbj0"
      }
    },
    {
      "cell_type": "code",
      "source": [
        "lst = [1,2,3,4]\n",
        "lst.append(5) # Added at the end of the list\n",
        "print(lst)\n",
        "lst.insert(0,'hello') # Added at the specific index '0'\n",
        "print(lst)"
      ],
      "metadata": {
        "colab": {
          "base_uri": "https://localhost:8080/"
        },
        "id": "3yNTW1EQDM8O",
        "outputId": "c67921b1-5f60-42b4-fed2-18e693ecfc95"
      },
      "execution_count": 56,
      "outputs": [
        {
          "output_type": "stream",
          "name": "stdout",
          "text": [
            "[1, 2, 3, 4, 5]\n",
            "['hello', 1, 2, 3, 4, 5]\n"
          ]
        }
      ]
    },
    {
      "cell_type": "markdown",
      "source": [
        "11. What are the two methods for removing items from a list?"
      ],
      "metadata": {
        "id": "dPbsPBlDErVy"
      }
    },
    {
      "cell_type": "markdown",
      "source": [
        "Ans: Two methods for removing items from a list: remove() method and pop() method and also del operator."
      ],
      "metadata": {
        "id": "9d4n8l33E6zf"
      }
    },
    {
      "cell_type": "code",
      "source": [
        "lst = [1,2,3,4,5,6,7,8]\n",
        "lst.pop(1) # Default remove last index value but here, specified index 1 so it remove '2' value.\n",
        "print(lst)\n",
        "lst.remove(3) # Remove, specified value '3'.\n",
        "print(lst)\n",
        "del lst[2] # delete, specified index value. i.e. '4' value\n",
        "print(lst)"
      ],
      "metadata": {
        "colab": {
          "base_uri": "https://localhost:8080/"
        },
        "id": "3u6WUNXwFESC",
        "outputId": "0e4a6b2c-e478-45fd-b4cf-306ead165263"
      },
      "execution_count": 66,
      "outputs": [
        {
          "output_type": "stream",
          "name": "stdout",
          "text": [
            "[1, 3, 4, 5, 6, 7, 8]\n",
            "[1, 4, 5, 6, 7, 8]\n",
            "[1, 4, 6, 7, 8]\n"
          ]
        }
      ]
    },
    {
      "cell_type": "markdown",
      "source": [
        "12. Describe how list values and string values are identical."
      ],
      "metadata": {
        "id": "AEVE3hUkEsUB"
      }
    },
    {
      "cell_type": "markdown",
      "source": [
        "13. What's the difference between tuples and lists?"
      ],
      "metadata": {
        "id": "7BjQ6UQEEsiM"
      }
    },
    {
      "cell_type": "markdown",
      "source": [
        "14. How do you type a tuple value that only contains the integer 42?"
      ],
      "metadata": {
        "id": "pguFufg-EswE"
      }
    },
    {
      "cell_type": "markdown",
      "source": [
        "15. How do you get a list value's tuple form? How do you get a tuple value's list form?"
      ],
      "metadata": {
        "id": "ciBsBRwAEtYG"
      }
    },
    {
      "cell_type": "markdown",
      "source": [
        "16. Variables that \"contain\" list values are not necessarily lists themselves. Instead, what do they contain?"
      ],
      "metadata": {
        "id": "VMMwxLu3EuLd"
      }
    },
    {
      "cell_type": "markdown",
      "source": [
        "17. How do you distinguish between copy.copy() and copy.deepcopy()?"
      ],
      "metadata": {
        "id": "1M1tyXQ5EuX8"
      }
    },
    {
      "cell_type": "code",
      "source": [
        ""
      ],
      "metadata": {
        "id": "Kz-DKlGjECqP"
      },
      "execution_count": null,
      "outputs": []
    }
  ]
}