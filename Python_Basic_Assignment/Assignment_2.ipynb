{
  "nbformat": 4,
  "nbformat_minor": 0,
  "metadata": {
    "colab": {
      "name": "Assignment_2.ipynb",
      "provenance": [],
      "collapsed_sections": []
    },
    "kernelspec": {
      "name": "python3",
      "display_name": "Python 3"
    },
    "language_info": {
      "name": "python"
    }
  },
  "cells": [
    {
      "cell_type": "markdown",
      "source": [
        "# Python Basic Assignment"
      ],
      "metadata": {
        "id": "Edn-kDArK9W5"
      }
    },
    {
      "cell_type": "markdown",
      "source": [
        "**Assignment - 2** \n"
      ],
      "metadata": {
        "id": "UBGXmq2KK_Ad"
      }
    },
    {
      "cell_type": "markdown",
      "source": [
        "1.What are the two values of the Boolean data type? How do you write them?\n",
        "\n"
      ],
      "metadata": {
        "id": "z1rBpzT9LD8N"
      }
    },
    {
      "cell_type": "markdown",
      "source": [
        "Ans: **True** and **False** are the two values of the Boolean data type. \n",
        "\n",
        "`NOTE: Not like in java, here must use Captial T and F.`\n"
      ],
      "metadata": {
        "id": "S1ZwNLUALQOu"
      }
    },
    {
      "cell_type": "code",
      "execution_count": null,
      "metadata": {
        "colab": {
          "base_uri": "https://localhost:8080/"
        },
        "id": "hSe9VwAgK7gY",
        "outputId": "d0342847-76c2-407d-c96f-5e2333584e5a"
      },
      "outputs": [
        {
          "output_type": "stream",
          "name": "stdout",
          "text": [
            "True <class 'bool'>\n",
            "False <class 'bool'>\n"
          ]
        }
      ],
      "source": [
        "a = True\n",
        "b = False\n",
        "\n",
        "print(a, type(a))\n",
        "print(b, type(b))"
      ]
    },
    {
      "cell_type": "markdown",
      "source": [
        "2. What are the three different types of Boolean operators?"
      ],
      "metadata": {
        "id": "YA9DVnowLz24"
      }
    },
    {
      "cell_type": "markdown",
      "source": [
        "Ans:\n",
        " **AND, OR, NOT** are the three different types of Boolean operators."
      ],
      "metadata": {
        "id": "kOmuaTdyL1QQ"
      }
    },
    {
      "cell_type": "code",
      "source": [
        "a = 100\n",
        "b = 200\n",
        "\n",
        "print(a>50 and b > 100) # and (both must be True)\n",
        "print(a>50 or b>500) # or (any one must be True)\n",
        "print(not(a>10)) # not (True then False, False then True)"
      ],
      "metadata": {
        "colab": {
          "base_uri": "https://localhost:8080/"
        },
        "id": "h-M06aqdK-ED",
        "outputId": "04ad6be7-4c19-4928-c190-fd9e098b3f1e"
      },
      "execution_count": null,
      "outputs": [
        {
          "output_type": "stream",
          "name": "stdout",
          "text": [
            "True\n",
            "True\n",
            "False\n"
          ]
        }
      ]
    },
    {
      "cell_type": "markdown",
      "source": [
        "3. Make a list of each Boolean operator's truth tables (i.e. every possible combination of Boolean values for the operator and what it evaluate )."
      ],
      "metadata": {
        "id": "elPpPFmUNBbQ"
      }
    },
    {
      "cell_type": "code",
      "source": [
        "# And \n",
        "True and True # True\n",
        "True and False # False\n",
        "False and True # False\n",
        "False and False # False"
      ],
      "metadata": {
        "colab": {
          "base_uri": "https://localhost:8080/"
        },
        "id": "k6mKbJUJMzlq",
        "outputId": "179f5f89-41be-4810-b3e8-015e70732d61"
      },
      "execution_count": null,
      "outputs": [
        {
          "output_type": "execute_result",
          "data": {
            "text/plain": [
              "False"
            ]
          },
          "metadata": {},
          "execution_count": 7
        }
      ]
    },
    {
      "cell_type": "code",
      "source": [
        "# OR\n",
        "True and True # True\n",
        "True and False # True\n",
        "False and True # True\n",
        "False and False # False"
      ],
      "metadata": {
        "colab": {
          "base_uri": "https://localhost:8080/"
        },
        "id": "UNRLaWUJNMx4",
        "outputId": "72319880-1b25-4351-a1ba-440fb3b813f8"
      },
      "execution_count": null,
      "outputs": [
        {
          "output_type": "execute_result",
          "data": {
            "text/plain": [
              "False"
            ]
          },
          "metadata": {},
          "execution_count": 8
        }
      ]
    },
    {
      "cell_type": "code",
      "source": [
        "# Not\n",
        "not(True) # False\n",
        "not(False) # True"
      ],
      "metadata": {
        "colab": {
          "base_uri": "https://localhost:8080/"
        },
        "id": "ZSLkLSC2NbC9",
        "outputId": "7c5e4919-3eee-46ec-92b2-0063b1c56ccd"
      },
      "execution_count": null,
      "outputs": [
        {
          "output_type": "execute_result",
          "data": {
            "text/plain": [
              "True"
            ]
          },
          "metadata": {},
          "execution_count": 9
        }
      ]
    },
    {
      "cell_type": "markdown",
      "source": [
        "4. What are the values of the following expressions?\n",
        "* (5 > 4) and (3 == 5)\n",
        "* not (5 > 4)\n",
        "* (5 > 4) or (3 == 5)\n",
        "* not ((5 > 4) or (3 == 5))\n",
        "* (True and True) and (True == False)\n",
        "* (not False) or (not True)\n"
      ],
      "metadata": {
        "id": "9xxHmL11P6ft"
      }
    },
    {
      "cell_type": "code",
      "source": [
        "print((5>4) and (3 == 5)) # False\n",
        "print(not(5>4)) # True\n",
        "print((5>4) or (3==5)) # True\n",
        "print(not((5>4) or (3==5))) # False\n",
        "print((True and True) and (True == False)) # False\n",
        "print((not False) or (not True)) # True\n"
      ],
      "metadata": {
        "colab": {
          "base_uri": "https://localhost:8080/"
        },
        "id": "chSAbfQLNnvu",
        "outputId": "61aa67b6-075d-4872-9892-aeedb317afdf"
      },
      "execution_count": null,
      "outputs": [
        {
          "output_type": "stream",
          "name": "stdout",
          "text": [
            "False\n",
            "False\n",
            "True\n",
            "False\n",
            "False\n",
            "True\n"
          ]
        }
      ]
    },
    {
      "cell_type": "markdown",
      "source": [
        "5. What are the six comparison operators?"
      ],
      "metadata": {
        "id": "r3L3trs0Q4s_"
      }
    },
    {
      "cell_type": "markdown",
      "source": [
        "Ans:\n",
        "\n",
        "**==, !=, <, >, <=, >=** are the six comparison operators"
      ],
      "metadata": {
        "id": "7zuxfEnoQ60O"
      }
    },
    {
      "cell_type": "code",
      "source": [
        "print(10 == 10) # Equal to\n",
        "print(10 != 10) # not equal to\n",
        "print(10 < 5) # Less than\n",
        "print(10 > 2) # Greater than\n",
        "print(10 <= 9) # Less than or equal to\n",
        "print(10 >= 10) # Greater than or equal t0\n"
      ],
      "metadata": {
        "colab": {
          "base_uri": "https://localhost:8080/"
        },
        "id": "P8ZNoiToQwoP",
        "outputId": "52077901-92ce-4a47-fd2f-1812ca614882"
      },
      "execution_count": null,
      "outputs": [
        {
          "output_type": "stream",
          "name": "stdout",
          "text": [
            "True\n",
            "False\n",
            "False\n",
            "True\n",
            "False\n",
            "True\n"
          ]
        }
      ]
    },
    {
      "cell_type": "markdown",
      "source": [
        "6. How do you tell the difference between the equal to and assignment operators? Describe a condition and when you would use one."
      ],
      "metadata": {
        "id": "UcPtjj7rR3Rm"
      }
    },
    {
      "cell_type": "code",
      "source": [
        "# Assignement Operators (=)\n",
        "# This is used to store value in a variable.\n",
        "\n",
        "name = \"Binod\"\n",
        "print(f\"His name is {name}.\")"
      ],
      "metadata": {
        "colab": {
          "base_uri": "https://localhost:8080/"
        },
        "id": "ARDy2Hd-SktH",
        "outputId": "7b45fbf4-ff34-4eb7-8237-ee3c88f8567b"
      },
      "execution_count": null,
      "outputs": [
        {
          "output_type": "stream",
          "name": "stdout",
          "text": [
            "His name is Binod.\n"
          ]
        }
      ]
    },
    {
      "cell_type": "code",
      "source": [
        "# Equal to (==)\n",
        "# This is used to compare, two values and evaluates (True or False)\n",
        "\n",
        "a = 20\n",
        "b = 10\n",
        "if a == b: \n",
        "  print(\"A equals B\")\n",
        "elif a >= b:\n",
        "  print(\"A is greater than B\")\n",
        "else:\n",
        "  print(\"B is grater than A\")\n"
      ],
      "metadata": {
        "colab": {
          "base_uri": "https://localhost:8080/"
        },
        "id": "xt754t73RnhZ",
        "outputId": "798bbbb0-fc3e-40fe-d622-05b8f2826fca"
      },
      "execution_count": null,
      "outputs": [
        {
          "output_type": "stream",
          "name": "stdout",
          "text": [
            "A is greater than B\n"
          ]
        }
      ]
    },
    {
      "cell_type": "markdown",
      "source": [
        "7. Identify the three blocks in this code:\n",
        "\n",
        "    spam = 0\n",
        "\n",
        "    if spam == 10:\n",
        "\n",
        "    print('eggs')\n",
        "\n",
        "    if spam > 5:\n",
        "\n",
        "    print('bacon')\n",
        "\n",
        "    else:\n",
        "\n",
        "    print('ham')\n",
        "\n",
        "    print('spam')\n",
        "\n",
        "    print('spam')"
      ],
      "metadata": {
        "id": "nxC0IGg8UaXV"
      }
    },
    {
      "cell_type": "markdown",
      "source": [
        "[Python Code Block - What Is It?](https://www.youtube.com/watch?v=kDbensdySHM)"
      ],
      "metadata": {
        "id": "j6_2H6PjVSKa"
      }
    },
    {
      "cell_type": "code",
      "source": [
        "spam = 0\n",
        "if spam == 10:\n",
        "  print('eggs') # 1st block\n",
        "if spam > 5:\n",
        "  print('bacon') # 2nd block\n",
        "else:\n",
        "  print('ham') # 3rd block\n",
        "print('spam')\n",
        "print('spam')"
      ],
      "metadata": {
        "id": "A-p7jtQ3Swu1",
        "colab": {
          "base_uri": "https://localhost:8080/"
        },
        "outputId": "9c316dc5-c75e-418e-ef53-4af2adf63a1e"
      },
      "execution_count": 32,
      "outputs": [
        {
          "output_type": "stream",
          "name": "stdout",
          "text": [
            "ham\n",
            "spam\n",
            "spam\n"
          ]
        }
      ]
    },
    {
      "cell_type": "markdown",
      "source": [
        "8. Write code that prints Hello if 1 is stored in spam, prints Howdy if 2 is stored in spam, and prints Greetings! if anything else is stored in spam."
      ],
      "metadata": {
        "id": "LHH_VuEsVnNp"
      }
    },
    {
      "cell_type": "code",
      "source": [
        "def spam_code(spam):\n",
        "  if spam == 1:\n",
        "    print('Hello')\n",
        "  elif spam == 2:\n",
        "    print('Howdy')\n",
        "  else:\n",
        "    print('Greetings')  \n",
        "\n",
        "# Calling function\n",
        "spam_code(1)\n",
        "spam_code(2)\n",
        "spam_code(100)       "
      ],
      "metadata": {
        "colab": {
          "base_uri": "https://localhost:8080/"
        },
        "id": "NK5oKm7CVe6j",
        "outputId": "ed525844-bbdd-4f71-ca14-6f303dfb0601"
      },
      "execution_count": 34,
      "outputs": [
        {
          "output_type": "stream",
          "name": "stdout",
          "text": [
            "Hello\n",
            "Howdy\n",
            "Greetings\n"
          ]
        }
      ]
    },
    {
      "cell_type": "markdown",
      "source": [
        "9. If your programme is stuck in an endless loop, what keys you’ll press?"
      ],
      "metadata": {
        "id": "UfxlQdZmWMkq"
      }
    },
    {
      "cell_type": "code",
      "source": [
        "# Interrupt execution - Command + M"
      ],
      "metadata": {
        "id": "tbdvfmdzV6cQ"
      },
      "execution_count": 35,
      "outputs": []
    },
    {
      "cell_type": "markdown",
      "source": [
        "10. How can you tell the difference between break and continue?"
      ],
      "metadata": {
        "id": "x0zgjGYZWPFX"
      }
    },
    {
      "cell_type": "code",
      "source": [
        "# 1. Break -> will move the execution outside the loop, when condition satisfied.\n",
        "lst = [1,2,3,4,5,6,7]\n",
        "for ele in lst:\n",
        "  if ele == 2:\n",
        "    break\n",
        "\n",
        "print(ele) "
      ],
      "metadata": {
        "colab": {
          "base_uri": "https://localhost:8080/"
        },
        "id": "jHw6tPs8WgXH",
        "outputId": "90a4f814-6d31-4461-9cac-f89bd1a79a1d"
      },
      "execution_count": 37,
      "outputs": [
        {
          "output_type": "stream",
          "name": "stdout",
          "text": [
            "2\n"
          ]
        }
      ]
    },
    {
      "cell_type": "code",
      "source": [
        "# 2. Continue -> will move the execution to the start of the loop\n",
        "\n",
        "lst = [1,2,3,4,5]\n",
        "newlst = []\n",
        "\n",
        "for ele in lst:\n",
        "  if ele == 4:\n",
        "    continue\n",
        "  else:\n",
        "    newlst.append(ele)  \n",
        "\n",
        "print(newlst)   # Print without 4 in new lst."
      ],
      "metadata": {
        "colab": {
          "base_uri": "https://localhost:8080/"
        },
        "id": "0VQgnkBRbhOU",
        "outputId": "bd22d8b9-e875-4745-8337-04af4024cbcd"
      },
      "execution_count": 41,
      "outputs": [
        {
          "output_type": "stream",
          "name": "stdout",
          "text": [
            "[1, 2, 3, 5]\n"
          ]
        }
      ]
    },
    {
      "cell_type": "markdown",
      "source": [
        "11. In a for loop, what is the difference between range(10), range(0, 10), and range(0, 10, 1)?"
      ],
      "metadata": {
        "id": "bcN3xS42WWYu"
      }
    },
    {
      "cell_type": "markdown",
      "source": [
        "1. range(10) - call range from 0 to 9 (excluding 10)\n",
        "\n",
        "2. range(0,10) - call range from 0 to 9 but, here explicitly tells the loop to start from 0\n",
        "\n",
        "3. range(0,10,1) - explicitly tells the loop to increase the variable by 1 step size in each iteration."
      ],
      "metadata": {
        "id": "z-TPrRQdcLUj"
      }
    },
    {
      "cell_type": "code",
      "source": [
        ""
      ],
      "metadata": {
        "id": "Pnjo_BLmcuuo"
      },
      "execution_count": null,
      "outputs": []
    },
    {
      "cell_type": "markdown",
      "source": [
        "12. Write a short program that prints the numbers 1 to 10 using a for loop. Then write an equivalent program that prints the numbers 1 to 10 using a while loop."
      ],
      "metadata": {
        "id": "OJzXYK7iWPY5"
      }
    },
    {
      "cell_type": "code",
      "source": [
        "print('-'*10, 'Using for loop', '_'*10)\n",
        "for i in range(1,11):\n",
        "  print(i, end = ' ') # Use of end, default print in newline.\n",
        "            # So, end = ' ' print in same line with space in bet\n",
        "print('\\n')\n",
        "print('-'*10, 'Using for loop', '_'*10)\n",
        "i = 1\n",
        "while (i<=10):\n",
        "  print(i, end =' ')\n",
        "  i+=1"
      ],
      "metadata": {
        "colab": {
          "base_uri": "https://localhost:8080/"
        },
        "id": "ek4-idl8WhLp",
        "outputId": "90298464-ecee-42df-a0ff-25b23dd26e30"
      },
      "execution_count": 47,
      "outputs": [
        {
          "output_type": "stream",
          "name": "stdout",
          "text": [
            "---------- Using for loop __________\n",
            "1 2 3 4 5 6 7 8 9 10 \n",
            "\n",
            "----- Using for loop _____\n",
            "1 2 3 4 5 6 7 8 9 10 "
          ]
        }
      ]
    },
    {
      "cell_type": "markdown",
      "source": [
        "13. If you had a function named bacon() inside a module named spam, how would you call it after importing spam?"
      ],
      "metadata": {
        "id": "ogJrTaWzWPng"
      }
    },
    {
      "cell_type": "markdown",
      "source": [
        "Ans: After importing spam module, to call bacon() function. \n",
        "\n",
        "Called with **spam.bacon()** i.e.\n",
        "`module_name.function_name()`"
      ],
      "metadata": {
        "id": "IQYlvYKbeH6A"
      }
    },
    {
      "cell_type": "code",
      "source": [
        ""
      ],
      "metadata": {
        "id": "BC0AL2KvWONZ"
      },
      "execution_count": null,
      "outputs": []
    }
  ]
}