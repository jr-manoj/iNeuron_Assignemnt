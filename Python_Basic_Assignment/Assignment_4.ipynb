{
  "nbformat": 4,
  "nbformat_minor": 0,
  "metadata": {
    "colab": {
      "name": "Assignment_4.ipynb",
      "provenance": [],
      "collapsed_sections": [],
      "authorship_tag": "ABX9TyNmVAxkAXWgp0rB4fKQVdzZ",
      "include_colab_link": true
    },
    "kernelspec": {
      "name": "python3",
      "display_name": "Python 3"
    },
    "language_info": {
      "name": "python"
    }
  },
  "cells": [
    {
      "cell_type": "markdown",
      "metadata": {
        "id": "view-in-github",
        "colab_type": "text"
      },
      "source": [
        "<a href=\"https://colab.research.google.com/github/jr-manoj/iNeuron_Assignemnt/blob/main/Assignment_4.ipynb\" target=\"_parent\"><img src=\"https://colab.research.google.com/assets/colab-badge.svg\" alt=\"Open In Colab\"/></a>"
      ]
    },
    {
      "cell_type": "markdown",
      "source": [
        "1. What exactly is [ ] ?"
      ],
      "metadata": {
        "id": "riMntbxv3f7U"
      }
    },
    {
      "cell_type": "markdown",
      "source": [
        "Ans: [ ] is used to create list in python. Here, [] is an empty list which is similar to '' which denote empty string."
      ],
      "metadata": {
        "id": "OeIWDC8M4a2Z"
      }
    },
    {
      "cell_type": "code",
      "source": [
        "lst = []\n",
        "lst"
      ],
      "metadata": {
        "colab": {
          "base_uri": "https://localhost:8080/"
        },
        "id": "PtPnHKQU-f5J",
        "outputId": "099efd39-4f26-4581-e7c7-b6b042a61e0a"
      },
      "execution_count": 1,
      "outputs": [
        {
          "output_type": "execute_result",
          "data": {
            "text/plain": [
              "[]"
            ]
          },
          "metadata": {},
          "execution_count": 1
        }
      ]
    },
    {
      "cell_type": "markdown",
      "source": [
        "2. In a list of values stored in a variable called spam, how would you assign the value 'hello' as the third value? (Assume [2, 4, 6, 8, 10] are in spam.)\n"
      ],
      "metadata": {
        "id": "DxuItMnH-c0s"
      }
    },
    {
      "cell_type": "markdown",
      "source": [
        "Ans: By using insert() method or by directly like spam[2] = 'hello'."
      ],
      "metadata": {
        "id": "ItDyMzx7-nfO"
      }
    },
    {
      "cell_type": "code",
      "source": [
        "spam = [2,4,6,8,10]"
      ],
      "metadata": {
        "id": "xaAnphBW-feG"
      },
      "execution_count": 2,
      "outputs": []
    },
    {
      "cell_type": "code",
      "source": [
        "# Assign the value 'hello' as the third value\n",
        "\n",
        "spam.insert(2,'hello')\n",
        "\n",
        "# Or, \n",
        "# spam[2] = 'hello'\n"
      ],
      "metadata": {
        "id": "veazDMoL3iOd"
      },
      "execution_count": 3,
      "outputs": []
    },
    {
      "cell_type": "code",
      "source": [
        "spam"
      ],
      "metadata": {
        "colab": {
          "base_uri": "https://localhost:8080/"
        },
        "id": "hfBTXFIR4X9F",
        "outputId": "8cac58ab-d0bd-47e5-bb46-271c4efdbd7e"
      },
      "execution_count": 4,
      "outputs": [
        {
          "output_type": "execute_result",
          "data": {
            "text/plain": [
              "[2, 4, 'hello', 6, 8, 10]"
            ]
          },
          "metadata": {},
          "execution_count": 4
        }
      ]
    },
    {
      "cell_type": "markdown",
      "source": [
        "# Let's pretend the spam includes the list ['a', 'b', 'c', 'd'] for the next three queries."
      ],
      "metadata": {
        "id": "qRgRp54u_xYv"
      }
    },
    {
      "cell_type": "markdown",
      "source": [
        "3. What is the value of spam[int(int('3' * 2) / 11)]?"
      ],
      "metadata": {
        "id": "HVdyzr3O_zwD"
      }
    },
    {
      "cell_type": "markdown",
      "source": [
        "Ans: Here, '3' is string so when it multiply with 2 then` 33` will be the output. And when the output int(33/11) then `3` which is index 3. So it will print **'d'** value."
      ],
      "metadata": {
        "id": "1n19SeMAAPZh"
      }
    },
    {
      "cell_type": "code",
      "source": [
        "spam = ['a','b','c','d']\n",
        "spam[int(int('3'*2)/11)]"
      ],
      "metadata": {
        "colab": {
          "base_uri": "https://localhost:8080/",
          "height": 37
        },
        "id": "PsiFHxzI_NEu",
        "outputId": "a94fe2ba-bb8e-4d55-dec7-ccbca75f7b19"
      },
      "execution_count": 5,
      "outputs": [
        {
          "output_type": "execute_result",
          "data": {
            "text/plain": [
              "'d'"
            ],
            "application/vnd.google.colaboratory.intrinsic+json": {
              "type": "string"
            }
          },
          "metadata": {},
          "execution_count": 5
        }
      ]
    },
    {
      "cell_type": "markdown",
      "source": [
        "4. What is the value of spam[-1]?"
      ],
      "metadata": {
        "id": "49LIIFGkA7Sf"
      }
    },
    {
      "cell_type": "code",
      "source": [
        "spam[-1] # Last value"
      ],
      "metadata": {
        "colab": {
          "base_uri": "https://localhost:8080/",
          "height": 37
        },
        "id": "EoS01PrWAA4s",
        "outputId": "dea212b8-a09d-4b81-f01a-4283095454d6"
      },
      "execution_count": 6,
      "outputs": [
        {
          "output_type": "execute_result",
          "data": {
            "text/plain": [
              "'d'"
            ],
            "application/vnd.google.colaboratory.intrinsic+json": {
              "type": "string"
            }
          },
          "metadata": {},
          "execution_count": 6
        }
      ]
    },
    {
      "cell_type": "markdown",
      "source": [
        "5. What is the value of spam[:2]?"
      ],
      "metadata": {
        "id": "Avm4BjZ_BCf2"
      }
    },
    {
      "cell_type": "code",
      "source": [
        "spam[:2] # start from beginning till 2 (excluding 2)"
      ],
      "metadata": {
        "colab": {
          "base_uri": "https://localhost:8080/"
        },
        "id": "MnUqpSruADvs",
        "outputId": "c20c85f9-d203-4fe5-eabc-d5b25c824d89"
      },
      "execution_count": 7,
      "outputs": [
        {
          "output_type": "execute_result",
          "data": {
            "text/plain": [
              "['a', 'b']"
            ]
          },
          "metadata": {},
          "execution_count": 7
        }
      ]
    },
    {
      "cell_type": "markdown",
      "source": [
        "## Let's pretend bacon has the list [3.14, 'cat,' 11, 'cat,' True] for the next three questions."
      ],
      "metadata": {
        "id": "dR8d9WHcBOSX"
      }
    },
    {
      "cell_type": "code",
      "source": [
        "bacon = [3.14, 'cat', 11, 'cat', True]"
      ],
      "metadata": {
        "id": "hlOzhSg6A1F2"
      },
      "execution_count": 8,
      "outputs": []
    },
    {
      "cell_type": "markdown",
      "source": [
        "6. What is the value of bacon.index('cat')?"
      ],
      "metadata": {
        "id": "1jj5hywuBSS2"
      }
    },
    {
      "cell_type": "code",
      "source": [
        "bacon.index('cat') # NOTE: Because, index method returns the index of first occuerence of 'cat'"
      ],
      "metadata": {
        "colab": {
          "base_uri": "https://localhost:8080/"
        },
        "id": "3nXVt2RpBSxl",
        "outputId": "078f71aa-af20-4791-e717-8bee9ee1800d"
      },
      "execution_count": 9,
      "outputs": [
        {
          "output_type": "execute_result",
          "data": {
            "text/plain": [
              "1"
            ]
          },
          "metadata": {},
          "execution_count": 9
        }
      ]
    },
    {
      "cell_type": "markdown",
      "source": [
        "7. How does bacon.append(99) change the look of the list value in bacon?"
      ],
      "metadata": {
        "id": "LawXAemdBhUI"
      }
    },
    {
      "cell_type": "code",
      "source": [
        "print(bacon)\n",
        "bacon.append(99) # NOTE: Append always append value to the end of the list\n",
        "bacon\n"
      ],
      "metadata": {
        "colab": {
          "base_uri": "https://localhost:8080/"
        },
        "id": "f78JzLcrBZBH",
        "outputId": "366a7e77-f7a8-4e5a-c778-f013aadc5f0e"
      },
      "execution_count": 10,
      "outputs": [
        {
          "output_type": "stream",
          "name": "stdout",
          "text": [
            "[3.14, 'cat', 11, 'cat', True]\n"
          ]
        },
        {
          "output_type": "execute_result",
          "data": {
            "text/plain": [
              "[3.14, 'cat', 11, 'cat', True, 99]"
            ]
          },
          "metadata": {},
          "execution_count": 10
        }
      ]
    },
    {
      "cell_type": "markdown",
      "source": [
        "8. How does bacon.remove('cat') change the look of the list in bacon?"
      ],
      "metadata": {
        "id": "rj8G59GZCBZI"
      }
    },
    {
      "cell_type": "code",
      "source": [
        "print(bacon)\n",
        "bacon.remove('cat') # .remove() always remove the first occuerence of 'cat' which is in index 1.\n",
        "bacon"
      ],
      "metadata": {
        "colab": {
          "base_uri": "https://localhost:8080/"
        },
        "id": "qAVbEVh3BoKX",
        "outputId": "f72aef7c-3544-4743-fbca-226523deefa1"
      },
      "execution_count": 11,
      "outputs": [
        {
          "output_type": "stream",
          "name": "stdout",
          "text": [
            "[3.14, 'cat', 11, 'cat', True, 99]\n"
          ]
        },
        {
          "output_type": "execute_result",
          "data": {
            "text/plain": [
              "[3.14, 11, 'cat', True, 99]"
            ]
          },
          "metadata": {},
          "execution_count": 11
        }
      ]
    },
    {
      "cell_type": "markdown",
      "source": [
        "9. What are the list concatenation and list replication operators?"
      ],
      "metadata": {
        "id": "PJqa-y_lCT9C"
      }
    },
    {
      "cell_type": "markdown",
      "source": [
        "Ans: \n",
        "\n",
        "For list concatenation `+` operator is used.\n",
        "\n",
        "For list replication `'*'` operator is used."
      ],
      "metadata": {
        "id": "oOrb8Uu6CiC7"
      }
    },
    {
      "cell_type": "code",
      "source": [
        "lst1 = ['manoj', 'kumar', 'kabin', 'prabin', 'kushal']\n",
        "lst2 = ['birat', 'binod','bibek']\n",
        "# List concatenation\n",
        "print(lst1+lst2)\n",
        "# List replication \n",
        "print(lst2 * 2) # Replicate the list 2 times."
      ],
      "metadata": {
        "colab": {
          "base_uri": "https://localhost:8080/"
        },
        "id": "-6DzjePbCJCR",
        "outputId": "c40c799b-2e48-4434-81bb-6b5d8dddb7b8"
      },
      "execution_count": 12,
      "outputs": [
        {
          "output_type": "stream",
          "name": "stdout",
          "text": [
            "['manoj', 'kumar', 'kabin', 'prabin', 'kushal', 'birat', 'binod', 'bibek']\n",
            "['birat', 'binod', 'bibek', 'birat', 'binod', 'bibek']\n"
          ]
        }
      ]
    },
    {
      "cell_type": "markdown",
      "source": [
        "10. What is difference between the list methods append() and insert()?"
      ],
      "metadata": {
        "id": "kPFHY0AADX_P"
      }
    },
    {
      "cell_type": "markdown",
      "source": [
        "Ans: Both methods, help to insert the value into the list. But the major differnce between two is the `append() method always add the value at the end of the list.` Whereas, `the insert() method can add the value anywhere in the list.`"
      ],
      "metadata": {
        "id": "Wx2463O_Dbj0"
      }
    },
    {
      "cell_type": "code",
      "source": [
        "lst = [1,2,3,4]\n",
        "lst.append(5) # Added at the end of the list\n",
        "print(lst)\n",
        "lst.insert(0,'hello') # Added at the specific index '0'\n",
        "print(lst)"
      ],
      "metadata": {
        "colab": {
          "base_uri": "https://localhost:8080/"
        },
        "id": "3yNTW1EQDM8O",
        "outputId": "51648c8f-5093-4d50-c4d3-b0a01da14fd1"
      },
      "execution_count": 13,
      "outputs": [
        {
          "output_type": "stream",
          "name": "stdout",
          "text": [
            "[1, 2, 3, 4, 5]\n",
            "['hello', 1, 2, 3, 4, 5]\n"
          ]
        }
      ]
    },
    {
      "cell_type": "markdown",
      "source": [
        "11. What are the two methods for removing items from a list?"
      ],
      "metadata": {
        "id": "dPbsPBlDErVy"
      }
    },
    {
      "cell_type": "markdown",
      "source": [
        "Ans: Two methods for removing items from a list: remove() method and pop() method and also del operator."
      ],
      "metadata": {
        "id": "9d4n8l33E6zf"
      }
    },
    {
      "cell_type": "code",
      "source": [
        "lst = [1,2,3,4,5,6,7,8]\n",
        "lst.pop(1) # Default remove last index value but here, specified index 1 so it remove '2' value.\n",
        "print(lst)\n",
        "lst.remove(3) # Remove, specified value '3'.\n",
        "print(lst)\n",
        "del lst[2] # delete, specified index value. i.e. '4' value\n",
        "print(lst)"
      ],
      "metadata": {
        "colab": {
          "base_uri": "https://localhost:8080/"
        },
        "id": "3u6WUNXwFESC",
        "outputId": "850853db-f210-40df-b52a-97e1765f679b"
      },
      "execution_count": 14,
      "outputs": [
        {
          "output_type": "stream",
          "name": "stdout",
          "text": [
            "[1, 3, 4, 5, 6, 7, 8]\n",
            "[1, 4, 5, 6, 7, 8]\n",
            "[1, 4, 6, 7, 8]\n"
          ]
        }
      ]
    },
    {
      "cell_type": "markdown",
      "source": [
        "12. Describe how list values and string values are identical(same)."
      ],
      "metadata": {
        "id": "AEVE3hUkEsUB"
      }
    },
    {
      "cell_type": "markdown",
      "source": [
        "Ans:  Both lists and strings can be passed to len() function, have indexes and slices, be used in for loops, be concatenated or replicated, and be used with the **in** and not **in** operators."
      ],
      "metadata": {
        "id": "8u9XnpF4_E-R"
      }
    },
    {
      "cell_type": "code",
      "source": [
        "lst = [1,2,3,'manoj', 'kabin', 'ram', 453]\n",
        "string = \"Hello, I'm doing INeuron Course\"\n",
        "\n",
        "\n",
        "# Length\n",
        "print(len(lst))\n",
        "print(len(string))\n",
        "# Indexes and slicing\n",
        "print(lst[-1]) # last vale\n",
        "print(string[::-1]) # Reverse oder"
      ],
      "metadata": {
        "colab": {
          "base_uri": "https://localhost:8080/"
        },
        "id": "_yCzJaZO_ETQ",
        "outputId": "0ea099c2-250d-49f4-c409-5fe4239bcef0"
      },
      "execution_count": 36,
      "outputs": [
        {
          "output_type": "stream",
          "name": "stdout",
          "text": [
            "7\n",
            "31\n",
            "453\n",
            "esruoC norueNI gniod m'I ,olleH\n"
          ]
        }
      ]
    },
    {
      "cell_type": "markdown",
      "source": [
        "13. What's the difference between tuples and lists?"
      ],
      "metadata": {
        "id": "7BjQ6UQEEsiM"
      }
    },
    {
      "cell_type": "markdown",
      "source": [
        "Ans: Tuples **( )** are immutable as list are mutable.List **[ ]** there are many different methods are available like slicing, index, append, insert. But in tuple only two methods are available (count and index)."
      ],
      "metadata": {
        "id": "XOilp_WMChap"
      }
    },
    {
      "cell_type": "markdown",
      "source": [
        "14. How do you type a tuple value that only contains the integer 42?"
      ],
      "metadata": {
        "id": "pguFufg-EswE"
      }
    },
    {
      "cell_type": "code",
      "source": [
        "tup = (42,) # NOTE, to denote single tuple we have to add , at last. If not, defaultly complier type is int. \n",
        "# tup = (42)  # Integer type not tuple."
      ],
      "metadata": {
        "id": "c9xzewFoDO9b"
      },
      "execution_count": 41,
      "outputs": []
    },
    {
      "cell_type": "markdown",
      "source": [
        "15. How do you get a list value's tuple form? How do you get a tuple value's list form?"
      ],
      "metadata": {
        "id": "ciBsBRwAEtYG"
      }
    },
    {
      "cell_type": "markdown",
      "source": [
        "Ans: tuple() and list() function is used to convert list to tuple and tuple to list."
      ],
      "metadata": {
        "id": "ExqLkKRDEnQc"
      }
    },
    {
      "cell_type": "code",
      "source": [
        "# List value into tuple form\n",
        "lst = [1,2,3,4,'ram', 'gita', 5,6,7]\n",
        "print(f\"List: {lst}\")\n",
        "tup = tuple(lst)\n",
        "print(f\"List to tuple: {tup} \")\n",
        "\n",
        "# Tuple value into list form\n",
        "print('-'*20, '-' * 20)\n",
        "tup = ('ram', 'shyam', 1, 2,4,5)\n",
        "print(f\"Tuple: {tup}\")\n",
        "lst = list(tup)\n",
        "print(f\"Tuple to List: {lst}\")\n"
      ],
      "metadata": {
        "colab": {
          "base_uri": "https://localhost:8080/"
        },
        "id": "Umd7UV8iDtSi",
        "outputId": "bb43d429-0da1-4958-f28a-05de3a67cef9"
      },
      "execution_count": 49,
      "outputs": [
        {
          "output_type": "stream",
          "name": "stdout",
          "text": [
            "List: [1, 2, 3, 4, 'ram', 'gita', 5, 6, 7]\n",
            "List to tuple: (1, 2, 3, 4, 'ram', 'gita', 5, 6, 7) \n",
            "-------------------- --------------------\n",
            "Tuple: ('ram', 'shyam', 1, 2, 4, 5)\n",
            "Tuple to List: ['ram', 'shyam', 1, 2, 4, 5]\n"
          ]
        }
      ]
    },
    {
      "cell_type": "markdown",
      "source": [
        "16. Variables that \"contain\" list values are not necessarily lists themselves. Instead, what do they contain?"
      ],
      "metadata": {
        "id": "VMMwxLu3EuLd"
      }
    },
    {
      "cell_type": "markdown",
      "source": [
        "Ans: Insted, they contain the reference of the list value."
      ],
      "metadata": {
        "id": "SI_eIUMDF8Rj"
      }
    },
    {
      "cell_type": "markdown",
      "source": [
        "17. How do you distinguish between copy.copy() and copy.deepcopy()?"
      ],
      "metadata": {
        "id": "1M1tyXQ5EuX8"
      }
    },
    {
      "cell_type": "markdown",
      "source": [
        "Ans: "
      ],
      "metadata": {
        "id": "VXIXeqhGID3h"
      }
    },
    {
      "cell_type": "markdown",
      "source": [
        "From: [Krish Naik](https://youtube.com/watch?v=SgUwPDT9tEs)\n",
        "\n",
        "Revise this/ Practice this."
      ],
      "metadata": {
        "id": "uY9LvC3gHVsB"
      }
    },
    {
      "cell_type": "code",
      "source": [
        "lst1 = [1,2,3,4,5]\n",
        "lst2 = lst1 # lst2 copy the reference of lst1 not the value of lst1\n",
        "            # also share the same memory location (of lst1 by lst2)\n"
      ],
      "metadata": {
        "id": "Kz-DKlGjECqP"
      },
      "execution_count": 55,
      "outputs": []
    },
    {
      "cell_type": "code",
      "source": [
        "lst2[1] = 1000 # so, when we change in the lst2 it also change the lst1"
      ],
      "metadata": {
        "id": "NRHD3BR4HqXp"
      },
      "execution_count": 56,
      "outputs": []
    },
    {
      "cell_type": "code",
      "source": [
        "lst2"
      ],
      "metadata": {
        "colab": {
          "base_uri": "https://localhost:8080/"
        },
        "id": "rK0W2MQuHr-2",
        "outputId": "f51d2038-4684-43a4-d9e4-daa44d84d5dc"
      },
      "execution_count": 57,
      "outputs": [
        {
          "output_type": "execute_result",
          "data": {
            "text/plain": [
              "[1, 1000, 3, 4, 5]"
            ]
          },
          "metadata": {},
          "execution_count": 57
        }
      ]
    },
    {
      "cell_type": "code",
      "source": [
        "lst1 # also change in orignal list"
      ],
      "metadata": {
        "colab": {
          "base_uri": "https://localhost:8080/"
        },
        "id": "5KftQUeOHssJ",
        "outputId": "953483d4-7037-4ef0-d716-53029fe6da17"
      },
      "execution_count": 58,
      "outputs": [
        {
          "output_type": "execute_result",
          "data": {
            "text/plain": [
              "[1, 1000, 3, 4, 5]"
            ]
          },
          "metadata": {},
          "execution_count": 58
        }
      ]
    },
    {
      "cell_type": "code",
      "source": [
        "# Shallow Copy \n",
        "\n",
        "# .copy() operation\n",
        "lst1 = [1,2,3,4,5]\n",
        "lst2 = lst1.copy() \n",
        "# .copy() operation copy the value of lst2 and also \n",
        "# the memory location of lst1 and lst2 are different not like previous one.\n"
      ],
      "metadata": {
        "id": "VI-H8EqEHtff"
      },
      "execution_count": 59,
      "outputs": []
    },
    {
      "cell_type": "code",
      "source": [
        "lst2[1] = 1000 # Here, when change in lst2 it doesn't change lst1"
      ],
      "metadata": {
        "id": "HHU9DkGiIr79"
      },
      "execution_count": 63,
      "outputs": []
    },
    {
      "cell_type": "code",
      "source": [
        "lst2"
      ],
      "metadata": {
        "colab": {
          "base_uri": "https://localhost:8080/"
        },
        "id": "QHLMsvfwIv3x",
        "outputId": "4d5d5206-4679-4e90-c0a5-cb4c231f31e4"
      },
      "execution_count": 61,
      "outputs": [
        {
          "output_type": "execute_result",
          "data": {
            "text/plain": [
              "[1, 1000, 3, 4, 5]"
            ]
          },
          "metadata": {},
          "execution_count": 61
        }
      ]
    },
    {
      "cell_type": "code",
      "source": [
        "lst1 # no change in original list."
      ],
      "metadata": {
        "colab": {
          "base_uri": "https://localhost:8080/"
        },
        "id": "wbD62mcNIwYA",
        "outputId": "1ec13e5a-b4d2-4ffa-ffe4-6575e232509b"
      },
      "execution_count": 62,
      "outputs": [
        {
          "output_type": "execute_result",
          "data": {
            "text/plain": [
              "[1, 2, 3, 4, 5]"
            ]
          },
          "metadata": {},
          "execution_count": 62
        }
      ]
    },
    {
      "cell_type": "code",
      "source": [
        "# Shallow Copy with nested list\n",
        "lst1 = [[1,2,3,4], [5,6,7,8]]\n",
        "lst2 = lst1.copy()"
      ],
      "metadata": {
        "id": "LOOWYOzUIw_r"
      },
      "execution_count": 64,
      "outputs": []
    },
    {
      "cell_type": "markdown",
      "source": [
        "**NOTE:**  \n",
        "\n",
        "\n",
        "\n",
        "*  When i try to use shallow copy with nested list. When i change the value inside of lst1[1][0] from 1 to 100 then if i print lst2 then in lst2 also the value had change. When i only change the value in lst1 but it also change in lst2. \n",
        "\n",
        "*  This is because, lst1 = [[1,2,3,4]] this is consider as the 1 item inside a nested list. So, when i change the lst1 value it also change the copy lst2 value also. This is because, both lists share the reference of same nested objects.\n",
        "\n",
        "*   But, if you now append new nested list inside the lst1 then it only append inside lst1 it doesn't modify in lst2. So, this append  item will not get copied but if you are making changes in the values present inside the nested list which are copied to lst2 before. Then definitely it will also change in lst2.\n",
        "\n"
      ],
      "metadata": {
        "id": "kojYUmfhJYDq"
      }
    },
    {
      "cell_type": "code",
      "source": [
        "lst1[1][0] = 100"
      ],
      "metadata": {
        "id": "xLuZic89JQv4"
      },
      "execution_count": 69,
      "outputs": []
    },
    {
      "cell_type": "code",
      "source": [
        "lst2"
      ],
      "metadata": {
        "colab": {
          "base_uri": "https://localhost:8080/"
        },
        "id": "MYrbCA2GJRMm",
        "outputId": "cd48b1a8-fb5c-4f75-e53b-64d34a5ac75c"
      },
      "execution_count": 67,
      "outputs": [
        {
          "output_type": "execute_result",
          "data": {
            "text/plain": [
              "[[1, 2, 3, 4], [5, 6, 7, 8]]"
            ]
          },
          "metadata": {},
          "execution_count": 67
        }
      ]
    },
    {
      "cell_type": "code",
      "source": [
        "lst1.append([2,3,4,5])\n",
        "lst1"
      ],
      "metadata": {
        "colab": {
          "base_uri": "https://localhost:8080/"
        },
        "id": "DoEh8VGoJSoF",
        "outputId": "cdd37499-2bc7-499a-9853-b6ee703664ec"
      },
      "execution_count": 70,
      "outputs": [
        {
          "output_type": "execute_result",
          "data": {
            "text/plain": [
              "[[1, 2, 3, 4], [100, 6, 7, 8], [2, 3, 4, 5]]"
            ]
          },
          "metadata": {},
          "execution_count": 70
        }
      ]
    },
    {
      "cell_type": "code",
      "source": [
        "lst2 # not copied in lst2"
      ],
      "metadata": {
        "colab": {
          "base_uri": "https://localhost:8080/"
        },
        "id": "vjODiEIEMmEP",
        "outputId": "f24c55af-5b3a-4e8f-b989-4c9ba442d2dd"
      },
      "execution_count": 71,
      "outputs": [
        {
          "output_type": "execute_result",
          "data": {
            "text/plain": [
              "[[1, 2, 3, 4], [100, 6, 7, 8]]"
            ]
          },
          "metadata": {},
          "execution_count": 71
        }
      ]
    },
    {
      "cell_type": "code",
      "source": [
        " # Deep Copy\n",
        "\n",
        "import copy\n",
        "lst1 = [1, 2,3,4] # single list\n",
        "lst2 = copy.deepcopy(lst1)"
      ],
      "metadata": {
        "id": "YCYlKtuvMm1O"
      },
      "execution_count": 83,
      "outputs": []
    },
    {
      "cell_type": "code",
      "source": [
        "lst2[1] = 100 # change in lst2 but in doesn't make any \n",
        "              # change in lst1 (orginal) same as sallow copy.\n"
      ],
      "metadata": {
        "id": "d2EN2XwhM5JI"
      },
      "execution_count": 84,
      "outputs": []
    },
    {
      "cell_type": "code",
      "source": [
        "lst1 "
      ],
      "metadata": {
        "colab": {
          "base_uri": "https://localhost:8080/"
        },
        "id": "ygQWBDeaM5w6",
        "outputId": "227dfe91-1d8d-4cfc-bf54-ed7fa470be49"
      },
      "execution_count": 85,
      "outputs": [
        {
          "output_type": "execute_result",
          "data": {
            "text/plain": [
              "[1, 2, 3, 4]"
            ]
          },
          "metadata": {},
          "execution_count": 85
        }
      ]
    },
    {
      "cell_type": "markdown",
      "source": [
        "**NOTE:** In a normal list shallow copy equal to Deep copy\n",
        "\n",
        "\n"
      ],
      "metadata": {
        "id": "XOhb56uJNPpC"
      }
    },
    {
      "cell_type": "code",
      "source": [
        "# Deep copy with nested list\n",
        "\n",
        "lst1 = [[1,2,3],[3,4,5],[5,6,7]]\n",
        "lst2 = copy.deepcopy(lst1)"
      ],
      "metadata": {
        "id": "iVYJNVoZM9BI"
      },
      "execution_count": 76,
      "outputs": []
    },
    {
      "cell_type": "code",
      "source": [
        "lst2[1][0] = 100 # change '3' to 100 in lst2\n",
        "lst2"
      ],
      "metadata": {
        "colab": {
          "base_uri": "https://localhost:8080/"
        },
        "id": "l_aXIaImNjaq",
        "outputId": "8b762587-8fb6-45c1-942b-0337e03eaa74"
      },
      "execution_count": 80,
      "outputs": [
        {
          "output_type": "execute_result",
          "data": {
            "text/plain": [
              "[[1, 2, 3], [100, 4, 5], [5, 6, 7]]"
            ]
          },
          "metadata": {},
          "execution_count": 80
        }
      ]
    },
    {
      "cell_type": "code",
      "source": [
        "lst1 # If i check in lst1 it doesn't make any  changed in ls1"
      ],
      "metadata": {
        "colab": {
          "base_uri": "https://localhost:8080/"
        },
        "id": "7Waa8P47NnBE",
        "outputId": "7a751611-9902-488e-950d-71007fcf979e"
      },
      "execution_count": 81,
      "outputs": [
        {
          "output_type": "execute_result",
          "data": {
            "text/plain": [
              "[[1, 2, 3], [3, 4, 5], [5, 6, 7]]"
            ]
          },
          "metadata": {},
          "execution_count": 81
        }
      ]
    },
    {
      "cell_type": "code",
      "source": [
        "# So, unlike shallow copy nested loop. Here, both lst1 and lst2 nested list\n",
        "# So, what we do, seperate memory location is create for each operation.\n",
        "# THis, is the different .\n",
        "# SO, here in nested list, deep copy and shallow copy are not same."
      ],
      "metadata": {
        "id": "uCZOqYg8N77B"
      },
      "execution_count": 82,
      "outputs": []
    },
    {
      "cell_type": "code",
      "source": [
        ""
      ],
      "metadata": {
        "id": "yg3j_vz3OZ73"
      },
      "execution_count": null,
      "outputs": []
    }
  ]
}